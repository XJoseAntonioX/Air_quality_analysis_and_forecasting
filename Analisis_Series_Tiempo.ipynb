{
 "cells": [
  {
   "cell_type": "markdown",
   "metadata": {},
   "source": [
    "# Time series analyses"
   ]
  },
  {
   "cell_type": "code",
   "execution_count": 1,
   "metadata": {},
   "outputs": [],
   "source": [
    "import pandas as pd\n",
    "import numpy as np\n",
    "import plotly.graph_objects as go\n",
    "import matplotlib.pyplot as plt\n",
    "import seaborn as sns\n",
    "from scipy.signal import periodogram\n",
    "from statsmodels.tsa.seasonal import seasonal_decompose\n",
    "from datetime import date \n",
    "import holidays\n",
    "import importlib\n",
    "\n",
    "Monterrey = pd.read_csv(\"Files/Datos_2022_2023_CENTRO_limpios.csv\", parse_dates=[0], index_col = \"date\")\n",
    "daily_Monterrey = Monterrey.resample('D').mean()"
   ]
  },
  {
   "cell_type": "markdown",
   "metadata": {},
   "source": [
    "## Funciones "
   ]
  },
  {
   "cell_type": "code",
   "execution_count": 2,
   "metadata": {},
   "outputs": [
    {
     "data": {
      "text/plain": [
       "<module 'EDA' from 'c:\\\\Users\\\\José Antonio\\\\Documents\\\\TEC\\\\Python\\\\Multivariados\\\\Funciones\\\\EDA.py'>"
      ]
     },
     "execution_count": 2,
     "metadata": {},
     "output_type": "execute_result"
    }
   ],
   "source": [
    "# Directorio de archivos\n",
    "import sys\n",
    "sys.path.append(\"Funciones\")\n",
    "\n",
    "import Feature_Engineering\n",
    "import EDA\n",
    "\n",
    "importlib.reload(Feature_Engineering)\n",
    "importlib.reload(EDA)"
   ]
  },
  {
   "cell_type": "markdown",
   "metadata": {},
   "source": [
    "### Feature Engineering"
   ]
  },
  {
   "cell_type": "code",
   "execution_count": 3,
   "metadata": {},
   "outputs": [],
   "source": [
    "from Feature_Engineering import add_holiday_feature\n",
    "from Feature_Engineering import add_weekend_feature\n",
    "from Feature_Engineering import add_cyclic_feature"
   ]
  },
  {
   "cell_type": "markdown",
   "metadata": {},
   "source": [
    "### Exploratory time series analysis"
   ]
  },
  {
   "cell_type": "code",
   "execution_count": 4,
   "metadata": {},
   "outputs": [],
   "source": [
    "from EDA import graficar_serie_tiempo\n",
    "from EDA import Periodograma\n",
    "from EDA import Top_10_Periodogram"
   ]
  },
  {
   "cell_type": "markdown",
   "metadata": {},
   "source": [
    "## Feature Engineering"
   ]
  },
  {
   "cell_type": "markdown",
   "metadata": {},
   "source": [
    "### Días festivos"
   ]
  },
  {
   "cell_type": "code",
   "execution_count": 5,
   "metadata": {},
   "outputs": [
    {
     "data": {
      "text/html": [
       "<div>\n",
       "<style scoped>\n",
       "    .dataframe tbody tr th:only-of-type {\n",
       "        vertical-align: middle;\n",
       "    }\n",
       "\n",
       "    .dataframe tbody tr th {\n",
       "        vertical-align: top;\n",
       "    }\n",
       "\n",
       "    .dataframe thead th {\n",
       "        text-align: right;\n",
       "    }\n",
       "</style>\n",
       "<table border=\"1\" class=\"dataframe\">\n",
       "  <thead>\n",
       "    <tr style=\"text-align: right;\">\n",
       "      <th></th>\n",
       "      <th>Fecha</th>\n",
       "      <th>Evento</th>\n",
       "    </tr>\n",
       "  </thead>\n",
       "  <tbody>\n",
       "    <tr>\n",
       "      <th>0</th>\n",
       "      <td>2022-01-01</td>\n",
       "      <td>Año Nuevo</td>\n",
       "    </tr>\n",
       "    <tr>\n",
       "      <th>1</th>\n",
       "      <td>2022-02-07</td>\n",
       "      <td>Día de la Constitución</td>\n",
       "    </tr>\n",
       "    <tr>\n",
       "      <th>2</th>\n",
       "      <td>2022-03-21</td>\n",
       "      <td>Natalicio de Benito Juárez</td>\n",
       "    </tr>\n",
       "    <tr>\n",
       "      <th>3</th>\n",
       "      <td>2022-05-01</td>\n",
       "      <td>Día del Trabajo</td>\n",
       "    </tr>\n",
       "    <tr>\n",
       "      <th>4</th>\n",
       "      <td>2022-09-16</td>\n",
       "      <td>Día de la Independencia</td>\n",
       "    </tr>\n",
       "    <tr>\n",
       "      <th>5</th>\n",
       "      <td>2022-11-21</td>\n",
       "      <td>Día de la Revolución</td>\n",
       "    </tr>\n",
       "    <tr>\n",
       "      <th>6</th>\n",
       "      <td>2022-12-25</td>\n",
       "      <td>Navidad</td>\n",
       "    </tr>\n",
       "    <tr>\n",
       "      <th>7</th>\n",
       "      <td>2023-01-01</td>\n",
       "      <td>Año Nuevo</td>\n",
       "    </tr>\n",
       "    <tr>\n",
       "      <th>8</th>\n",
       "      <td>2023-02-06</td>\n",
       "      <td>Día de la Constitución</td>\n",
       "    </tr>\n",
       "    <tr>\n",
       "      <th>9</th>\n",
       "      <td>2023-03-20</td>\n",
       "      <td>Natalicio de Benito Juárez</td>\n",
       "    </tr>\n",
       "    <tr>\n",
       "      <th>10</th>\n",
       "      <td>2023-05-01</td>\n",
       "      <td>Día del Trabajo</td>\n",
       "    </tr>\n",
       "    <tr>\n",
       "      <th>11</th>\n",
       "      <td>2023-09-16</td>\n",
       "      <td>Día de la Independencia</td>\n",
       "    </tr>\n",
       "    <tr>\n",
       "      <th>12</th>\n",
       "      <td>2023-11-20</td>\n",
       "      <td>Día de la Revolución</td>\n",
       "    </tr>\n",
       "    <tr>\n",
       "      <th>13</th>\n",
       "      <td>2023-12-25</td>\n",
       "      <td>Navidad</td>\n",
       "    </tr>\n",
       "  </tbody>\n",
       "</table>\n",
       "</div>"
      ],
      "text/plain": [
       "        Fecha                      Evento\n",
       "0  2022-01-01                   Año Nuevo\n",
       "1  2022-02-07      Día de la Constitución\n",
       "2  2022-03-21  Natalicio de Benito Juárez\n",
       "3  2022-05-01             Día del Trabajo\n",
       "4  2022-09-16     Día de la Independencia\n",
       "5  2022-11-21        Día de la Revolución\n",
       "6  2022-12-25                     Navidad\n",
       "7  2023-01-01                   Año Nuevo\n",
       "8  2023-02-06      Día de la Constitución\n",
       "9  2023-03-20  Natalicio de Benito Juárez\n",
       "10 2023-05-01             Día del Trabajo\n",
       "11 2023-09-16     Día de la Independencia\n",
       "12 2023-11-20        Día de la Revolución\n",
       "13 2023-12-25                     Navidad"
      ]
     },
     "metadata": {},
     "output_type": "display_data"
    }
   ],
   "source": [
    "daily_Monterrey, festivos_df = add_holiday_feature(daily_Monterrey, 2022, 2023, country='Mexico')\n",
    "display(festivos_df)\n"
   ]
  },
  {
   "cell_type": "markdown",
   "metadata": {},
   "source": [
    "### Fines de semana"
   ]
  },
  {
   "cell_type": "code",
   "execution_count": 6,
   "metadata": {},
   "outputs": [],
   "source": [
    "# Crear la variable dummy para fines de semana\n",
    "daily_Monterrey = add_weekend_feature(daily_Monterrey)"
   ]
  },
  {
   "cell_type": "markdown",
   "metadata": {},
   "source": [
    "### Seasonality"
   ]
  },
  {
   "cell_type": "code",
   "execution_count": 7,
   "metadata": {},
   "outputs": [],
   "source": [
    "daily_Monterrey = add_cyclic_feature(daily_Monterrey, \"2022-01-03\", 37, column_name=\"is_37_day_cycle\")"
   ]
  },
  {
   "cell_type": "code",
   "execution_count": 8,
   "metadata": {},
   "outputs": [
    {
     "data": {
      "text/html": [
       "<div>\n",
       "<style scoped>\n",
       "    .dataframe tbody tr th:only-of-type {\n",
       "        vertical-align: middle;\n",
       "    }\n",
       "\n",
       "    .dataframe tbody tr th {\n",
       "        vertical-align: top;\n",
       "    }\n",
       "\n",
       "    .dataframe thead th {\n",
       "        text-align: right;\n",
       "    }\n",
       "</style>\n",
       "<table border=\"1\" class=\"dataframe\">\n",
       "  <thead>\n",
       "    <tr style=\"text-align: right;\">\n",
       "      <th></th>\n",
       "      <th>CO</th>\n",
       "      <th>NO</th>\n",
       "      <th>NO2</th>\n",
       "      <th>NOX</th>\n",
       "      <th>O3</th>\n",
       "      <th>PM10</th>\n",
       "      <th>PM2.5</th>\n",
       "      <th>PRS</th>\n",
       "      <th>RAINF</th>\n",
       "      <th>RH</th>\n",
       "      <th>SO2</th>\n",
       "      <th>SR</th>\n",
       "      <th>TOUT</th>\n",
       "      <th>WSR</th>\n",
       "      <th>WDR</th>\n",
       "      <th>is_holiday</th>\n",
       "      <th>is_weekend</th>\n",
       "      <th>is_37_day_cycle</th>\n",
       "    </tr>\n",
       "    <tr>\n",
       "      <th>date</th>\n",
       "      <th></th>\n",
       "      <th></th>\n",
       "      <th></th>\n",
       "      <th></th>\n",
       "      <th></th>\n",
       "      <th></th>\n",
       "      <th></th>\n",
       "      <th></th>\n",
       "      <th></th>\n",
       "      <th></th>\n",
       "      <th></th>\n",
       "      <th></th>\n",
       "      <th></th>\n",
       "      <th></th>\n",
       "      <th></th>\n",
       "      <th></th>\n",
       "      <th></th>\n",
       "      <th></th>\n",
       "    </tr>\n",
       "  </thead>\n",
       "  <tbody>\n",
       "    <tr>\n",
       "      <th>2022-01-01</th>\n",
       "      <td>1.532500</td>\n",
       "      <td>5.152917</td>\n",
       "      <td>18.902500</td>\n",
       "      <td>24.255833</td>\n",
       "      <td>25.416667</td>\n",
       "      <td>68.583333</td>\n",
       "      <td>29.173750</td>\n",
       "      <td>705.870833</td>\n",
       "      <td>0.0</td>\n",
       "      <td>24.791667</td>\n",
       "      <td>4.329167</td>\n",
       "      <td>0.146958</td>\n",
       "      <td>26.112917</td>\n",
       "      <td>5.733333</td>\n",
       "      <td>185.291667</td>\n",
       "      <td>1</td>\n",
       "      <td>1</td>\n",
       "      <td>0</td>\n",
       "    </tr>\n",
       "    <tr>\n",
       "      <th>2022-01-02</th>\n",
       "      <td>1.230000</td>\n",
       "      <td>3.760833</td>\n",
       "      <td>12.312500</td>\n",
       "      <td>16.241667</td>\n",
       "      <td>26.654167</td>\n",
       "      <td>84.875000</td>\n",
       "      <td>11.750000</td>\n",
       "      <td>716.475000</td>\n",
       "      <td>0.0</td>\n",
       "      <td>25.083333</td>\n",
       "      <td>5.183333</td>\n",
       "      <td>0.144375</td>\n",
       "      <td>14.480417</td>\n",
       "      <td>9.766667</td>\n",
       "      <td>80.166667</td>\n",
       "      <td>0</td>\n",
       "      <td>1</td>\n",
       "      <td>0</td>\n",
       "    </tr>\n",
       "    <tr>\n",
       "      <th>2022-01-03</th>\n",
       "      <td>1.197500</td>\n",
       "      <td>5.137500</td>\n",
       "      <td>12.600000</td>\n",
       "      <td>17.987500</td>\n",
       "      <td>31.666667</td>\n",
       "      <td>41.916667</td>\n",
       "      <td>7.232083</td>\n",
       "      <td>720.066667</td>\n",
       "      <td>0.0</td>\n",
       "      <td>24.958333</td>\n",
       "      <td>3.546250</td>\n",
       "      <td>0.145375</td>\n",
       "      <td>9.794583</td>\n",
       "      <td>9.208333</td>\n",
       "      <td>77.500000</td>\n",
       "      <td>0</td>\n",
       "      <td>0</td>\n",
       "      <td>1</td>\n",
       "    </tr>\n",
       "    <tr>\n",
       "      <th>2022-01-04</th>\n",
       "      <td>1.743333</td>\n",
       "      <td>20.233333</td>\n",
       "      <td>37.887500</td>\n",
       "      <td>58.308333</td>\n",
       "      <td>18.375000</td>\n",
       "      <td>76.000000</td>\n",
       "      <td>30.655417</td>\n",
       "      <td>714.470833</td>\n",
       "      <td>0.0</td>\n",
       "      <td>30.416667</td>\n",
       "      <td>5.975000</td>\n",
       "      <td>0.139417</td>\n",
       "      <td>12.896667</td>\n",
       "      <td>4.737500</td>\n",
       "      <td>171.333333</td>\n",
       "      <td>0</td>\n",
       "      <td>0</td>\n",
       "      <td>0</td>\n",
       "    </tr>\n",
       "    <tr>\n",
       "      <th>2022-01-05</th>\n",
       "      <td>1.656250</td>\n",
       "      <td>15.480000</td>\n",
       "      <td>36.303750</td>\n",
       "      <td>51.986667</td>\n",
       "      <td>25.095833</td>\n",
       "      <td>88.120833</td>\n",
       "      <td>27.819458</td>\n",
       "      <td>710.172083</td>\n",
       "      <td>0.0</td>\n",
       "      <td>24.270833</td>\n",
       "      <td>7.105000</td>\n",
       "      <td>0.149083</td>\n",
       "      <td>19.871875</td>\n",
       "      <td>6.280000</td>\n",
       "      <td>167.629167</td>\n",
       "      <td>0</td>\n",
       "      <td>0</td>\n",
       "      <td>0</td>\n",
       "    </tr>\n",
       "    <tr>\n",
       "      <th>...</th>\n",
       "      <td>...</td>\n",
       "      <td>...</td>\n",
       "      <td>...</td>\n",
       "      <td>...</td>\n",
       "      <td>...</td>\n",
       "      <td>...</td>\n",
       "      <td>...</td>\n",
       "      <td>...</td>\n",
       "      <td>...</td>\n",
       "      <td>...</td>\n",
       "      <td>...</td>\n",
       "      <td>...</td>\n",
       "      <td>...</td>\n",
       "      <td>...</td>\n",
       "      <td>...</td>\n",
       "      <td>...</td>\n",
       "      <td>...</td>\n",
       "      <td>...</td>\n",
       "    </tr>\n",
       "    <tr>\n",
       "      <th>2023-08-13</th>\n",
       "      <td>0.414167</td>\n",
       "      <td>3.658333</td>\n",
       "      <td>6.512500</td>\n",
       "      <td>10.387500</td>\n",
       "      <td>29.375000</td>\n",
       "      <td>45.041667</td>\n",
       "      <td>12.966667</td>\n",
       "      <td>710.433333</td>\n",
       "      <td>0.0</td>\n",
       "      <td>43.125000</td>\n",
       "      <td>2.087500</td>\n",
       "      <td>0.288542</td>\n",
       "      <td>31.052083</td>\n",
       "      <td>11.570833</td>\n",
       "      <td>64.708333</td>\n",
       "      <td>0</td>\n",
       "      <td>1</td>\n",
       "      <td>0</td>\n",
       "    </tr>\n",
       "    <tr>\n",
       "      <th>2023-08-14</th>\n",
       "      <td>0.462083</td>\n",
       "      <td>4.733333</td>\n",
       "      <td>6.866667</td>\n",
       "      <td>11.816667</td>\n",
       "      <td>25.541667</td>\n",
       "      <td>49.208333</td>\n",
       "      <td>13.393333</td>\n",
       "      <td>711.454167</td>\n",
       "      <td>0.0</td>\n",
       "      <td>50.541667</td>\n",
       "      <td>1.983333</td>\n",
       "      <td>0.228000</td>\n",
       "      <td>30.116250</td>\n",
       "      <td>11.745833</td>\n",
       "      <td>81.166667</td>\n",
       "      <td>0</td>\n",
       "      <td>0</td>\n",
       "      <td>0</td>\n",
       "    </tr>\n",
       "    <tr>\n",
       "      <th>2023-08-15</th>\n",
       "      <td>0.496667</td>\n",
       "      <td>5.404167</td>\n",
       "      <td>8.300000</td>\n",
       "      <td>13.945833</td>\n",
       "      <td>24.500000</td>\n",
       "      <td>47.833333</td>\n",
       "      <td>13.322500</td>\n",
       "      <td>712.833333</td>\n",
       "      <td>0.0</td>\n",
       "      <td>49.000000</td>\n",
       "      <td>2.200000</td>\n",
       "      <td>0.252042</td>\n",
       "      <td>29.815417</td>\n",
       "      <td>10.370833</td>\n",
       "      <td>72.416667</td>\n",
       "      <td>0</td>\n",
       "      <td>0</td>\n",
       "      <td>0</td>\n",
       "    </tr>\n",
       "    <tr>\n",
       "      <th>2023-08-16</th>\n",
       "      <td>0.572500</td>\n",
       "      <td>6.075000</td>\n",
       "      <td>10.329167</td>\n",
       "      <td>16.645833</td>\n",
       "      <td>25.958333</td>\n",
       "      <td>61.166667</td>\n",
       "      <td>18.605417</td>\n",
       "      <td>711.666667</td>\n",
       "      <td>0.0</td>\n",
       "      <td>39.083333</td>\n",
       "      <td>2.933333</td>\n",
       "      <td>0.277875</td>\n",
       "      <td>31.083333</td>\n",
       "      <td>9.875000</td>\n",
       "      <td>71.583333</td>\n",
       "      <td>0</td>\n",
       "      <td>0</td>\n",
       "      <td>0</td>\n",
       "    </tr>\n",
       "    <tr>\n",
       "      <th>2023-08-17</th>\n",
       "      <td>0.583750</td>\n",
       "      <td>6.945833</td>\n",
       "      <td>12.262500</td>\n",
       "      <td>19.437500</td>\n",
       "      <td>27.291667</td>\n",
       "      <td>69.208333</td>\n",
       "      <td>19.635417</td>\n",
       "      <td>710.537500</td>\n",
       "      <td>0.0</td>\n",
       "      <td>33.166667</td>\n",
       "      <td>3.845833</td>\n",
       "      <td>0.281875</td>\n",
       "      <td>31.650000</td>\n",
       "      <td>10.125000</td>\n",
       "      <td>90.416667</td>\n",
       "      <td>0</td>\n",
       "      <td>0</td>\n",
       "      <td>0</td>\n",
       "    </tr>\n",
       "  </tbody>\n",
       "</table>\n",
       "<p>594 rows × 18 columns</p>\n",
       "</div>"
      ],
      "text/plain": [
       "                  CO         NO        NO2        NOX         O3       PM10  \\\n",
       "date                                                                          \n",
       "2022-01-01  1.532500   5.152917  18.902500  24.255833  25.416667  68.583333   \n",
       "2022-01-02  1.230000   3.760833  12.312500  16.241667  26.654167  84.875000   \n",
       "2022-01-03  1.197500   5.137500  12.600000  17.987500  31.666667  41.916667   \n",
       "2022-01-04  1.743333  20.233333  37.887500  58.308333  18.375000  76.000000   \n",
       "2022-01-05  1.656250  15.480000  36.303750  51.986667  25.095833  88.120833   \n",
       "...              ...        ...        ...        ...        ...        ...   \n",
       "2023-08-13  0.414167   3.658333   6.512500  10.387500  29.375000  45.041667   \n",
       "2023-08-14  0.462083   4.733333   6.866667  11.816667  25.541667  49.208333   \n",
       "2023-08-15  0.496667   5.404167   8.300000  13.945833  24.500000  47.833333   \n",
       "2023-08-16  0.572500   6.075000  10.329167  16.645833  25.958333  61.166667   \n",
       "2023-08-17  0.583750   6.945833  12.262500  19.437500  27.291667  69.208333   \n",
       "\n",
       "                PM2.5         PRS  RAINF         RH       SO2        SR  \\\n",
       "date                                                                      \n",
       "2022-01-01  29.173750  705.870833    0.0  24.791667  4.329167  0.146958   \n",
       "2022-01-02  11.750000  716.475000    0.0  25.083333  5.183333  0.144375   \n",
       "2022-01-03   7.232083  720.066667    0.0  24.958333  3.546250  0.145375   \n",
       "2022-01-04  30.655417  714.470833    0.0  30.416667  5.975000  0.139417   \n",
       "2022-01-05  27.819458  710.172083    0.0  24.270833  7.105000  0.149083   \n",
       "...               ...         ...    ...        ...       ...       ...   \n",
       "2023-08-13  12.966667  710.433333    0.0  43.125000  2.087500  0.288542   \n",
       "2023-08-14  13.393333  711.454167    0.0  50.541667  1.983333  0.228000   \n",
       "2023-08-15  13.322500  712.833333    0.0  49.000000  2.200000  0.252042   \n",
       "2023-08-16  18.605417  711.666667    0.0  39.083333  2.933333  0.277875   \n",
       "2023-08-17  19.635417  710.537500    0.0  33.166667  3.845833  0.281875   \n",
       "\n",
       "                 TOUT        WSR         WDR  is_holiday  is_weekend  \\\n",
       "date                                                                   \n",
       "2022-01-01  26.112917   5.733333  185.291667           1           1   \n",
       "2022-01-02  14.480417   9.766667   80.166667           0           1   \n",
       "2022-01-03   9.794583   9.208333   77.500000           0           0   \n",
       "2022-01-04  12.896667   4.737500  171.333333           0           0   \n",
       "2022-01-05  19.871875   6.280000  167.629167           0           0   \n",
       "...               ...        ...         ...         ...         ...   \n",
       "2023-08-13  31.052083  11.570833   64.708333           0           1   \n",
       "2023-08-14  30.116250  11.745833   81.166667           0           0   \n",
       "2023-08-15  29.815417  10.370833   72.416667           0           0   \n",
       "2023-08-16  31.083333   9.875000   71.583333           0           0   \n",
       "2023-08-17  31.650000  10.125000   90.416667           0           0   \n",
       "\n",
       "            is_37_day_cycle  \n",
       "date                         \n",
       "2022-01-01                0  \n",
       "2022-01-02                0  \n",
       "2022-01-03                1  \n",
       "2022-01-04                0  \n",
       "2022-01-05                0  \n",
       "...                     ...  \n",
       "2023-08-13                0  \n",
       "2023-08-14                0  \n",
       "2023-08-15                0  \n",
       "2023-08-16                0  \n",
       "2023-08-17                0  \n",
       "\n",
       "[594 rows x 18 columns]"
      ]
     },
     "execution_count": 8,
     "metadata": {},
     "output_type": "execute_result"
    }
   ],
   "source": [
    "daily_Monterrey"
   ]
  },
  {
   "cell_type": "markdown",
   "metadata": {},
   "source": [
    "## PM 10"
   ]
  },
  {
   "cell_type": "code",
   "execution_count": 9,
   "metadata": {},
   "outputs": [],
   "source": [
    "Monterrey_PM10 = daily_Monterrey[[\"PM10\", \"PRS\", \"RAINF\", \"RH\", \"SO2\", \"SR\", \"TOUT\", \"WSR\", \"WDR\", \"is_holiday\", \"is_weekend\", \"is_37_day_cycle\"]]"
   ]
  },
  {
   "cell_type": "code",
   "execution_count": 10,
   "metadata": {},
   "outputs": [
    {
     "name": "stderr",
     "output_type": "stream",
     "text": [
      "c:\\Users\\José Antonio\\Documents\\TEC\\Python\\Multivariados\\Funciones\\EDA.py:143: UserWarning: FigureCanvasAgg is non-interactive, and thus cannot be shown\n",
      "  fig.show()\n"
     ]
    },
    {
     "data": {
      "image/png": "[encoded data removed]",
      "text/plain": [
       "<Figure size 1200x300 with 1 Axes>"
      ]
     },
     "metadata": {},
     "output_type": "display_data"
    }
   ],
   "source": [
    "list_periods_spectra = Periodograma(Monterrey_PM10[\"PM10\"], detrend=\"constant\")"
   ]
  },
  {
   "cell_type": "code",
   "execution_count": 11,
   "metadata": {},
   "outputs": [
    {
     "name": "stdout",
     "output_type": "stream",
     "text": [
      "\n",
      "Top 10 para la variable 'PM10':\n"
     ]
    },
    {
     "data": {
      "text/html": [
       "<div>\n",
       "<style scoped>\n",
       "    .dataframe tbody tr th:only-of-type {\n",
       "        vertical-align: middle;\n",
       "    }\n",
       "\n",
       "    .dataframe tbody tr th {\n",
       "        vertical-align: top;\n",
       "    }\n",
       "\n",
       "    .dataframe thead th {\n",
       "        text-align: right;\n",
       "    }\n",
       "</style>\n",
       "<table border=\"1\" class=\"dataframe\">\n",
       "  <thead>\n",
       "    <tr style=\"text-align: right;\">\n",
       "      <th></th>\n",
       "      <th>top_periods</th>\n",
       "      <th>top_spectra</th>\n",
       "    </tr>\n",
       "  </thead>\n",
       "  <tbody>\n",
       "    <tr>\n",
       "      <th>0</th>\n",
       "      <td>37.125000</td>\n",
       "      <td>25509.197798</td>\n",
       "    </tr>\n",
       "    <tr>\n",
       "      <th>1</th>\n",
       "      <td>66.000000</td>\n",
       "      <td>14698.317947</td>\n",
       "    </tr>\n",
       "    <tr>\n",
       "      <th>2</th>\n",
       "      <td>39.600000</td>\n",
       "      <td>11701.638993</td>\n",
       "    </tr>\n",
       "    <tr>\n",
       "      <th>3</th>\n",
       "      <td>84.857143</td>\n",
       "      <td>7251.154529</td>\n",
       "    </tr>\n",
       "    <tr>\n",
       "      <th>4</th>\n",
       "      <td>27.000000</td>\n",
       "      <td>7056.574430</td>\n",
       "    </tr>\n",
       "    <tr>\n",
       "      <th>5</th>\n",
       "      <td>6.988235</td>\n",
       "      <td>6307.087002</td>\n",
       "    </tr>\n",
       "    <tr>\n",
       "      <th>6</th>\n",
       "      <td>25.826087</td>\n",
       "      <td>6163.770395</td>\n",
       "    </tr>\n",
       "    <tr>\n",
       "      <th>7</th>\n",
       "      <td>28.285714</td>\n",
       "      <td>5322.332056</td>\n",
       "    </tr>\n",
       "    <tr>\n",
       "      <th>8</th>\n",
       "      <td>74.250000</td>\n",
       "      <td>5314.997534</td>\n",
       "    </tr>\n",
       "    <tr>\n",
       "      <th>9</th>\n",
       "      <td>33.000000</td>\n",
       "      <td>5216.153448</td>\n",
       "    </tr>\n",
       "  </tbody>\n",
       "</table>\n",
       "</div>"
      ],
      "text/plain": [
       "   top_periods   top_spectra\n",
       "0    37.125000  25509.197798\n",
       "1    66.000000  14698.317947\n",
       "2    39.600000  11701.638993\n",
       "3    84.857143   7251.154529\n",
       "4    27.000000   7056.574430\n",
       "5     6.988235   6307.087002\n",
       "6    25.826087   6163.770395\n",
       "7    28.285714   5322.332056\n",
       "8    74.250000   5314.997534\n",
       "9    33.000000   5216.153448"
      ]
     },
     "metadata": {},
     "output_type": "display_data"
    }
   ],
   "source": [
    "Top_10_Periodogram(Monterrey_PM10, list_periods_spectra)"
   ]
  },
  {
   "cell_type": "code",
   "execution_count": 12,
   "metadata": {},
   "outputs": [
    {
     "data": {
      "application/vnd.plotly.v1+json": {
       "config": {
        "plotlyServerURL": "https://plot.ly"
       },
       "data": [
        {
         "line": {
          "color": "blue"
         },
         "mode": "lines",
         "name": "PM10",
         "type": "scatter",
         "x": [
          "2022-01-01T00:00:00",
          "2022-01-02T00:00:00",
          "2022-01-03T00:00:00",
          "2022-01-04T00:00:00",
          "2022-01-05T00:00:00",
          "2022-01-06T00:00:00",
          "2022-01-07T00:00:00",
          "2022-01-08T00:00:00",
          "2022-01-09T00:00:00",
          "2022-01-10T00:00:00",
          "2022-01-11T00:00:00",
          "2022-01-12T00:00:00",
          "2022-01-13T00:00:00",
          "2022-01-14T00:00:00",
          "2022-01-15T00:00:00",
          "2022-01-16T00:00:00",
          "2022-01-17T00:00:00",
          "2022-01-18T00:00:00",
          "2022-01-19T00:00:00",
          "2022-01-20T00:00:00",
          "2022-01-21T00:00:00",
          "2022-01-22T00:00:00",
          "2022-01-23T00:00:00",
          "2022-01-24T00:00:00",
          "2022-01-25T00:00:00",
          "2022-01-26T00:00:00",
          "2022-01-27T00:00:00",
          "2022-01-28T00:00:00",
          "2022-01-29T00:00:00",
          "2022-01-30T00:00:00",
          "2022-01-31T00:00:00",
          "2022-02-01T00:00:00",
          "2022-02-02T00:00:00",
          "2022-02-03T00:00:00",
          "2022-02-04T00:00:00",
          "2022-02-05T00:00:00",
          "2022-02-06T00:00:00",
          "2022-02-07T00:00:00",
          "2022-02-08T00:00:00",
          "2022-02-09T00:00:00",
          "2022-02-10T00:00:00",
          "2022-02-11T00:00:00",
          "2022-02-12T00:00:00",
          "2022-02-13T00:00:00",
          "2022-02-14T00:00:00",
          "2022-02-15T00:00:00",
          "2022-02-16T00:00:00",
          "2022-02-17T00:00:00",
          "2022-02-18T00:00:00",
          "2022-02-19T00:00:00",
          "2022-02-20T00:00:00",
          "2022-02-21T00:00:00",
          "2022-02-22T00:00:00",
          "2022-02-23T00:00:00",
          "2022-02-24T00:00:00",
          "2022-02-25T00:00:00",
          "2022-02-26T00:00:00",
          "2022-02-27T00:00:00",
          "2022-02-28T00:00:00",
          "2022-03-01T00:00:00",
          "2022-03-02T00:00:00",
          "2022-03-03T00:00:00",
          "2022-03-04T00:00:00",
          "2022-03-05T00:00:00",
          "2022-03-06T00:00:00",
          "2022-03-07T00:00:00",
          "2022-03-08T00:00:00",
          "2022-03-09T00:00:00",
          "2022-03-10T00:00:00",
          "2022-03-11T00:00:00",
          "2022-03-12T00:00:00",
          "2022-03-13T00:00:00",
          "2022-03-14T00:00:00",
          "2022-03-15T00:00:00",
          "2022-03-16T00:00:00",
          "2022-03-17T00:00:00",
          "2022-03-18T00:00:00",
          "2022-03-19T00:00:00",
          "2022-03-20T00:00:00",
          "2022-03-21T00:00:00",
          "2022-03-22T00:00:00",
          "2022-03-23T00:00:00",
          "2022-03-24T00:00:00",
          "2022-03-25T00:00:00",
          "2022-03-26T00:00:00",
          "2022-03-27T00:00:00",
          "2022-03-28T00:00:00",
          "2022-03-29T00:00:00",
          "2022-03-30T00:00:00",
          "2022-03-31T00:00:00",
          "2022-04-01T00:00:00",
          "2022-04-02T00:00:00",
          "2022-04-03T00:00:00",
          "2022-04-04T00:00:00",
          "2022-04-05T00:00:00",
          "2022-04-06T00:00:00",
          "2022-04-07T00:00:00",
          "2022-04-08T00:00:00",
          "2022-04-09T00:00:00",
          "2022-04-10T00:00:00",
          "2022-04-11T00:00:00",
          "2022-04-12T00:00:00",
          "2022-04-13T00:00:00",
          "2022-04-14T00:00:00",
          "2022-04-15T00:00:00",
          "2022-04-16T00:00:00",
          "2022-04-17T00:00:00",
          "2022-04-18T00:00:00",
          "2022-04-19T00:00:00",
          "2022-04-20T00:00:00",
          "2022-04-21T00:00:00",
          "2022-04-22T00:00:00",
          "2022-04-23T00:00:00",
          "2022-04-24T00:00:00",
          "2022-04-25T00:00:00",
          "2022-04-26T00:00:00",
          "2022-04-27T00:00:00",
          "2022-04-28T00:00:00",
          "2022-04-29T00:00:00",
          "2022-04-30T00:00:00",
          "2022-05-01T00:00:00",
          "2022-05-02T00:00:00",
          "2022-05-03T00:00:00",
          "2022-05-04T00:00:00",
          "2022-05-05T00:00:00",
          "2022-05-06T00:00:00",
          "2022-05-07T00:00:00",
          "2022-05-08T00:00:00",
          "2022-05-09T00:00:00",
          "2022-05-10T00:00:00",
          "2022-05-11T00:00:00",
          "2022-05-12T00:00:00",
          "2022-05-13T00:00:00",
          "2022-05-14T00:00:00",
          "2022-05-15T00:00:00",
          "2022-05-16T00:00:00",
          "2022-05-17T00:00:00",
          "2022-05-18T00:00:00",
          "2022-05-19T00:00:00",
          "2022-05-20T00:00:00",
          "2022-05-21T00:00:00",
          "2022-05-22T00:00:00",
          "2022-05-23T00:00:00",
          "2022-05-24T00:00:00",
          "2022-05-25T00:00:00",
          "2022-05-26T00:00:00",
          "2022-05-27T00:00:00",
          "2022-05-28T00:00:00",
          "2022-05-29T00:00:00",
          "2022-05-30T00:00:00",
          "2022-05-31T00:00:00",
          "2022-06-01T00:00:00",
          "2022-06-02T00:00:00",
          "2022-06-03T00:00:00",
          "2022-06-04T00:00:00",
          "2022-06-05T00:00:00",
          "2022-06-06T00:00:00",
          "2022-06-07T00:00:00",
          "2022-06-08T00:00:00",
          "2022-06-09T00:00:00",
          "2022-06-10T00:00:00",
          "2022-06-11T00:00:00",
          "2022-06-12T00:00:00",
          "2022-06-13T00:00:00",
          "2022-06-14T00:00:00",
          "2022-06-15T00:00:00",
          "2022-06-16T00:00:00",
          "2022-06-17T00:00:00",
          "2022-06-18T00:00:00",
          "2022-06-19T00:00:00",
          "2022-06-20T00:00:00",
          "2022-06-21T00:00:00",
          "2022-06-22T00:00:00",
          "2022-06-23T00:00:00",
          "2022-06-24T00:00:00",
          "2022-06-25T00:00:00",
          "2022-06-26T00:00:00",
          "2022-06-27T00:00:00",
          "2022-06-28T00:00:00",
          "2022-06-29T00:00:00",
          "2022-06-30T00:00:00",
          "2022-07-01T00:00:00",
          "2022-07-02T00:00:00",
          "2022-07-03T00:00:00",
          "2022-07-04T00:00:00",
          "2022-07-05T00:00:00",
          "2022-07-06T00:00:00",
          "2022-07-07T00:00:00",
          "2022-07-08T00:00:00",
          "2022-07-09T00:00:00",
          "2022-07-10T00:00:00",
          "2022-07-11T00:00:00",
          "2022-07-12T00:00:00",
          "2022-07-13T00:00:00",
          "2022-07-14T00:00:00",
          "2022-07-15T00:00:00",
          "2022-07-16T00:00:00",
          "2022-07-17T00:00:00",
          "2022-07-18T00:00:00",
          "2022-07-19T00:00:00",
          "2022-07-20T00:00:00",
          "2022-07-21T00:00:00",
          "2022-07-22T00:00:00",
          "2022-07-23T00:00:00",
          "2022-07-24T00:00:00",
          "2022-07-25T00:00:00",
          "2022-07-26T00:00:00",
          "2022-07-27T00:00:00",
          "2022-07-28T00:00:00",
          "2022-07-29T00:00:00",
          "2022-07-30T00:00:00",
          "2022-07-31T00:00:00",
          "2022-08-01T00:00:00",
          "2022-08-02T00:00:00",
          "2022-08-03T00:00:00",
          "2022-08-04T00:00:00",
          "2022-08-05T00:00:00",
          "2022-08-06T00:00:00",
          "2022-08-07T00:00:00",
          "2022-08-08T00:00:00",
          "2022-08-09T00:00:00",
          "2022-08-10T00:00:00",
          "2022-08-11T00:00:00",
          "2022-08-12T00:00:00",
          "2022-08-13T00:00:00",
          "2022-08-14T00:00:00",
          "2022-08-15T00:00:00",
          "2022-08-16T00:00:00",
          "2022-08-17T00:00:00",
          "2022-08-18T00:00:00",
          "2022-08-19T00:00:00",
          "2022-08-20T00:00:00",
          "2022-08-21T00:00:00",
          "2022-08-22T00:00:00",
          "2022-08-23T00:00:00",
          "2022-08-24T00:00:00",
          "2022-08-25T00:00:00",
          "2022-08-26T00:00:00",
          "2022-08-27T00:00:00",
          "2022-08-28T00:00:00",
          "2022-08-29T00:00:00",
          "2022-08-30T00:00:00",
          "2022-08-31T00:00:00",
          "2022-09-01T00:00:00",
          "2022-09-02T00:00:00",
          "2022-09-03T00:00:00",
          "2022-09-04T00:00:00",
          "2022-09-05T00:00:00",
          "2022-09-06T00:00:00",
          "2022-09-07T00:00:00",
          "2022-09-08T00:00:00",
          "2022-09-09T00:00:00",
          "2022-09-10T00:00:00",
          "2022-09-11T00:00:00",
          "2022-09-12T00:00:00",
          "2022-09-13T00:00:00",
          "2022-09-14T00:00:00",
          "2022-09-15T00:00:00",
          "2022-09-16T00:00:00",
          "2022-09-17T00:00:00",
          "2022-09-18T00:00:00",
          "2022-09-19T00:00:00",
          "2022-09-20T00:00:00",
          "2022-09-21T00:00:00",
          "2022-09-22T00:00:00",
          "2022-09-23T00:00:00",
          "2022-09-24T00:00:00",
          "2022-09-25T00:00:00",
          "2022-09-26T00:00:00",
          "2022-09-27T00:00:00",
          "2022-09-28T00:00:00",
          "2022-09-29T00:00:00",
          "2022-09-30T00:00:00",
          "2022-10-01T00:00:00",
          "2022-10-02T00:00:00",
          "2022-10-03T00:00:00",
          "2022-10-04T00:00:00",
          "2022-10-05T00:00:00",
          "2022-10-06T00:00:00",
          "2022-10-07T00:00:00",
          "2022-10-08T00:00:00",
          "2022-10-09T00:00:00",
          "2022-10-10T00:00:00",
          "2022-10-11T00:00:00",
          "2022-10-12T00:00:00",
          "2022-10-13T00:00:00",
          "2022-10-14T00:00:00",
          "2022-10-15T00:00:00",
          "2022-10-16T00:00:00",
          "2022-10-17T00:00:00",
          "2022-10-18T00:00:00",
          "2022-10-19T00:00:00",
          "2022-10-20T00:00:00",
          "2022-10-21T00:00:00",
          "2022-10-22T00:00:00",
          "2022-10-23T00:00:00",
          "2022-10-24T00:00:00",
          "2022-10-25T00:00:00",
          "2022-10-26T00:00:00",
          "2022-10-27T00:00:00",
          "2022-10-28T00:00:00",
          "2022-10-29T00:00:00",
          "2022-10-30T00:00:00",
          "2022-10-31T00:00:00",
          "2022-11-01T00:00:00",
          "2022-11-02T00:00:00",
          "2022-11-03T00:00:00",
          "2022-11-04T00:00:00",
          "2022-11-05T00:00:00",
          "2022-11-06T00:00:00",
          "2022-11-07T00:00:00",
          "2022-11-08T00:00:00",
          "2022-11-09T00:00:00",
          "2022-11-10T00:00:00",
          "2022-11-11T00:00:00",
          "2022-11-12T00:00:00",
          "2022-11-13T00:00:00",
          "2022-11-14T00:00:00",
          "2022-11-15T00:00:00",
          "2022-11-16T00:00:00",
          "2022-11-17T00:00:00",
          "2022-11-18T00:00:00",
          "2022-11-19T00:00:00",
          "2022-11-20T00:00:00",
          "2022-11-21T00:00:00",
          "2022-11-22T00:00:00",
          "2022-11-23T00:00:00",
          "2022-11-24T00:00:00",
          "2022-11-25T00:00:00",
          "2022-11-26T00:00:00",
          "2022-11-27T00:00:00",
          "2022-11-28T00:00:00",
          "2022-11-29T00:00:00",
          "2022-11-30T00:00:00",
          "2022-12-01T00:00:00",
          "2022-12-02T00:00:00",
          "2022-12-03T00:00:00",
          "2022-12-04T00:00:00",
          "2022-12-05T00:00:00",
          "2022-12-06T00:00:00",
          "2022-12-07T00:00:00",
          "2022-12-08T00:00:00",
          "2022-12-09T00:00:00",
          "2022-12-10T00:00:00",
          "2022-12-11T00:00:00",
          "2022-12-12T00:00:00",
          "2022-12-13T00:00:00",
          "2022-12-14T00:00:00",
          "2022-12-15T00:00:00",
          "2022-12-16T00:00:00",
          "2022-12-17T00:00:00",
          "2022-12-18T00:00:00",
          "2022-12-19T00:00:00",
          "2022-12-20T00:00:00",
          "2022-12-21T00:00:00",
          "2022-12-22T00:00:00",
          "2022-12-23T00:00:00",
          "2022-12-24T00:00:00",
          "2022-12-25T00:00:00",
          "2022-12-26T00:00:00",
          "2022-12-27T00:00:00",
          "2022-12-28T00:00:00",
          "2022-12-29T00:00:00",
          "2022-12-30T00:00:00",
          "2022-12-31T00:00:00",
          "2023-01-01T00:00:00",
          "2023-01-02T00:00:00",
          "2023-01-03T00:00:00",
          "2023-01-04T00:00:00",
          "2023-01-05T00:00:00",
          "2023-01-06T00:00:00",
          "2023-01-07T00:00:00",
          "2023-01-08T00:00:00",
          "2023-01-09T00:00:00",
          "2023-01-10T00:00:00",
          "2023-01-11T00:00:00",
          "2023-01-12T00:00:00",
          "2023-01-13T00:00:00",
          "2023-01-14T00:00:00",
          "2023-01-15T00:00:00",
          "2023-01-16T00:00:00",
          "2023-01-17T00:00:00",
          "2023-01-18T00:00:00",
          "2023-01-19T00:00:00",
          "2023-01-20T00:00:00",
          "2023-01-21T00:00:00",
          "2023-01-22T00:00:00",
          "2023-01-23T00:00:00",
          "2023-01-24T00:00:00",
          "2023-01-25T00:00:00",
          "2023-01-26T00:00:00",
          "2023-01-27T00:00:00",
          "2023-01-28T00:00:00",
          "2023-01-29T00:00:00",
          "2023-01-30T00:00:00",
          "2023-01-31T00:00:00",
          "2023-02-01T00:00:00",
          "2023-02-02T00:00:00",
          "2023-02-03T00:00:00",
          "2023-02-04T00:00:00",
          "2023-02-05T00:00:00",
          "2023-02-06T00:00:00",
          "2023-02-07T00:00:00",
          "2023-02-08T00:00:00",
          "2023-02-09T00:00:00",
          "2023-02-10T00:00:00",
          "2023-02-11T00:00:00",
          "2023-02-12T00:00:00",
          "2023-02-13T00:00:00",
          "2023-02-14T00:00:00",
          "2023-02-15T00:00:00",
          "2023-02-16T00:00:00",
          "2023-02-17T00:00:00",
          "2023-02-18T00:00:00",
          "2023-02-19T00:00:00",
          "2023-02-20T00:00:00",
          "2023-02-21T00:00:00",
          "2023-02-22T00:00:00",
          "2023-02-23T00:00:00",
          "2023-02-24T00:00:00",
          "2023-02-25T00:00:00",
          "2023-02-26T00:00:00",
          "2023-02-27T00:00:00",
          "2023-02-28T00:00:00",
          "2023-03-01T00:00:00",
          "2023-03-02T00:00:00",
          "2023-03-03T00:00:00",
          "2023-03-04T00:00:00",
          "2023-03-05T00:00:00",
          "2023-03-06T00:00:00",
          "2023-03-07T00:00:00",
          "2023-03-08T00:00:00",
          "2023-03-09T00:00:00",
          "2023-03-10T00:00:00",
          "2023-03-11T00:00:00",
          "2023-03-12T00:00:00",
          "2023-03-13T00:00:00",
          "2023-03-14T00:00:00",
          "2023-03-15T00:00:00",
          "2023-03-16T00:00:00",
          "2023-03-17T00:00:00",
          "2023-03-18T00:00:00",
          "2023-03-19T00:00:00",
          "2023-03-20T00:00:00",
          "2023-03-21T00:00:00",
          "2023-03-22T00:00:00",
          "2023-03-23T00:00:00",
          "2023-03-24T00:00:00",
          "2023-03-25T00:00:00",
          "2023-03-26T00:00:00",
          "2023-03-27T00:00:00",
          "2023-03-28T00:00:00",
          "2023-03-29T00:00:00",
          "2023-03-30T00:00:00",
          "2023-03-31T00:00:00",
          "2023-04-01T00:00:00",
          "2023-04-02T00:00:00",
          "2023-04-03T00:00:00",
          "2023-04-04T00:00:00",
          "2023-04-05T00:00:00",
          "2023-04-06T00:00:00",
          "2023-04-07T00:00:00",
          "2023-04-08T00:00:00",
          "2023-04-09T00:00:00",
          "2023-04-10T00:00:00",
          "2023-04-11T00:00:00",
          "2023-04-12T00:00:00",
          "2023-04-13T00:00:00",
          "2023-04-14T00:00:00",
          "2023-04-15T00:00:00",
          "2023-04-16T00:00:00",
          "2023-04-17T00:00:00",
          "2023-04-18T00:00:00",
          "2023-04-19T00:00:00",
          "2023-04-20T00:00:00",
          "2023-04-21T00:00:00",
          "2023-04-22T00:00:00",
          "2023-04-23T00:00:00",
          "2023-04-24T00:00:00",
          "2023-04-25T00:00:00",
          "2023-04-26T00:00:00",
          "2023-04-27T00:00:00",
          "2023-04-28T00:00:00",
          "2023-04-29T00:00:00",
          "2023-04-30T00:00:00",
          "2023-05-01T00:00:00",
          "2023-05-02T00:00:00",
          "2023-05-03T00:00:00",
          "2023-05-04T00:00:00",
          "2023-05-05T00:00:00",
          "2023-05-06T00:00:00",
          "2023-05-07T00:00:00",
          "2023-05-08T00:00:00",
          "2023-05-09T00:00:00",
          "2023-05-10T00:00:00",
          "2023-05-11T00:00:00",
          "2023-05-12T00:00:00",
          "2023-05-13T00:00:00",
          "2023-05-14T00:00:00",
          "2023-05-15T00:00:00",
          "2023-05-16T00:00:00",
          "2023-05-17T00:00:00",
          "2023-05-18T00:00:00",
          "2023-05-19T00:00:00",
          "2023-05-20T00:00:00",
          "2023-05-21T00:00:00",
          "2023-05-22T00:00:00",
          "2023-05-23T00:00:00",
          "2023-05-24T00:00:00",
          "2023-05-25T00:00:00",
          "2023-05-26T00:00:00",
          "2023-05-27T00:00:00",
          "2023-05-28T00:00:00",
          "2023-05-29T00:00:00",
          "2023-05-30T00:00:00",
          "2023-05-31T00:00:00",
          "2023-06-01T00:00:00",
          "2023-06-02T00:00:00",
          "2023-06-03T00:00:00",
          "2023-06-04T00:00:00",
          "2023-06-05T00:00:00",
          "2023-06-06T00:00:00",
          "2023-06-07T00:00:00",
          "2023-06-08T00:00:00",
          "2023-06-09T00:00:00",
          "2023-06-10T00:00:00",
          "2023-06-11T00:00:00",
          "2023-06-12T00:00:00",
          "2023-06-13T00:00:00",
          "2023-06-14T00:00:00",
          "2023-06-15T00:00:00",
          "2023-06-16T00:00:00",
          "2023-06-17T00:00:00",
          "2023-06-18T00:00:00",
          "2023-06-19T00:00:00",
          "2023-06-20T00:00:00",
          "2023-06-21T00:00:00",
          "2023-06-22T00:00:00",
          "2023-06-23T00:00:00",
          "2023-06-24T00:00:00",
          "2023-06-25T00:00:00",
          "2023-06-26T00:00:00",
          "2023-06-27T00:00:00",
          "2023-06-28T00:00:00",
          "2023-06-29T00:00:00",
          "2023-06-30T00:00:00",
          "2023-07-01T00:00:00",
          "2023-07-02T00:00:00",
          "2023-07-03T00:00:00",
          "2023-07-04T00:00:00",
          "2023-07-05T00:00:00",
          "2023-07-06T00:00:00",
          "2023-07-07T00:00:00",
          "2023-07-08T00:00:00",
          "2023-07-09T00:00:00",
          "2023-07-10T00:00:00",
          "2023-07-11T00:00:00",
          "2023-07-12T00:00:00",
          "2023-07-13T00:00:00",
          "2023-07-14T00:00:00",
          "2023-07-15T00:00:00",
          "2023-07-16T00:00:00",
          "2023-07-17T00:00:00",
          "2023-07-18T00:00:00",
          "2023-07-19T00:00:00",
          "2023-07-20T00:00:00",
          "2023-07-21T00:00:00",
          "2023-07-22T00:00:00",
          "2023-07-23T00:00:00",
          "2023-07-24T00:00:00",
          "2023-07-25T00:00:00",
          "2023-07-26T00:00:00",
          "2023-07-27T00:00:00",
          "2023-07-28T00:00:00",
          "2023-07-29T00:00:00",
          "2023-07-30T00:00:00",
          "2023-07-31T00:00:00",
          "2023-08-01T00:00:00",
          "2023-08-02T00:00:00",
          "2023-08-03T00:00:00",
          "2023-08-04T00:00:00",
          "2023-08-05T00:00:00",
          "2023-08-06T00:00:00",
          "2023-08-07T00:00:00",
          "2023-08-08T00:00:00",
          "2023-08-09T00:00:00",
          "2023-08-10T00:00:00",
          "2023-08-11T00:00:00",
          "2023-08-12T00:00:00",
          "2023-08-13T00:00:00",
          "2023-08-14T00:00:00",
          "2023-08-15T00:00:00",
          "2023-08-16T00:00:00",
          "2023-08-17T00:00:00"
         ],
         "y": [
          68.58333333333333,
          84.875,
          41.916666666666664,
          76,
          88.12083333333334,
          86.83333333333333,
          84.58333333333333,
          109.33333333333333,
          110.29166666666667,
          70.54166666666667,
          51.37083333333334,
          87.08333333333333,
          104.54166666666667,
          111.66666666666667,
          171.9625,
          106.66666666666667,
          102.70833333333333,
          124.54166666666667,
          94,
          95.45833333333333,
          72.375,
          64.125,
          40.14111337917203,
          99.00070691877954,
          80.20833333333333,
          37.708333333333336,
          43.875,
          42.625,
          45.291666666666664,
          60.10473696461825,
          72.08333333333333,
          71.70416666666667,
          95.125,
          63.583333333333336,
          42.458333333333336,
          47.666666666666664,
          65.33333333333333,
          65.70833333333333,
          59.98333333333333,
          78.83333333333333,
          67.70833333333333,
          60.125,
          115.625,
          50.916666666666664,
          72.29166666666667,
          80.79166666666667,
          84.33333333333333,
          154.875,
          71.5,
          51.041666666666664,
          62.833333333333336,
          73.16666666666667,
          68.92472335625268,
          93.625,
          77.75,
          57.625,
          72.97083333333333,
          60.291666666666664,
          63.87083333333334,
          68.01611337917204,
          66.08333333333333,
          58.916666666666664,
          42.916666666666664,
          59.99583333333334,
          62.875,
          108.08333333333333,
          65.07083333333334,
          59.791666666666664,
          79.83333333333333,
          108.57916666666667,
          57.958333333333336,
          45.025,
          78.25,
          99.91666666666667,
          91.83333333333333,
          99.16666666666667,
          169.58333333333334,
          69.66666666666667,
          57.375,
          71.20833333333333,
          112.79166666666667,
          148.875,
          67.28750000000001,
          65.625,
          84.45833333333333,
          74.375,
          78.5,
          88.58333333333333,
          169.49583333333334,
          91.16666666666667,
          64.99583333333334,
          73.125,
          64.28750000000001,
          71.78750000000001,
          95.41666666666667,
          130.20416666666668,
          76.95833333333333,
          95.66666666666667,
          91.45833333333333,
          75.22916666666667,
          74.45416666666667,
          74.32083333333334,
          53.7875,
          57.7875,
          55.541666666666664,
          73.45833333333333,
          68.54166666666667,
          60.708333333333336,
          41.366390022919354,
          61.541666666666664,
          68.5,
          62.541666666666664,
          56.07916666666667,
          52.725,
          62.833333333333336,
          41.5,
          31.25,
          44.375,
          65.5,
          68.375,
          50.63305668958602,
          63.583333333333336,
          74.20833333333333,
          73.625,
          77.70833333333333,
          72.08333333333333,
          72.91666666666667,
          84.25,
          91.58333333333333,
          66.54166666666667,
          48.75,
          56.458333333333336,
          58.791666666666664,
          63.333333333333336,
          57.25,
          68.25,
          69.45833333333333,
          87.95833333333333,
          87.58333333333333,
          96.03750000000001,
          86.33333333333333,
          58.041666666666664,
          46.875,
          47.916666666666664,
          64.04166666666667,
          47.666666666666664,
          73.95833333333333,
          68.29166666666667,
          65.66666666666667,
          64.125,
          55.24083673542472,
          45.44889342501074,
          48.62223356252685,
          53.708333333333336,
          52.75,
          53.083333333333336,
          72.91666666666667,
          89.83333333333333,
          76,
          49.416666666666664,
          62.44166666666666,
          59.875,
          68.71639002291936,
          86.29166666666667,
          71.45833333333333,
          45.75,
          98.95833333333333,
          92.75,
          51.75,
          33,
          42.63584013751611,
          51.48917687294084,
          41.333333333333336,
          61.041666666666664,
          68.625,
          44.125,
          39.625,
          43.583333333333336,
          43.541666666666664,
          41.791666666666664,
          49.125,
          57.63305668958602,
          62.625,
          42.5,
          43.291666666666664,
          54.708333333333336,
          66.29166666666667,
          51.625,
          51.916666666666664,
          60.833333333333336,
          43.458333333333336,
          50.916666666666664,
          59.875,
          55.708333333333336,
          51.5,
          49.583333333333336,
          71.25,
          85.875,
          88.66666666666667,
          69.41666666666667,
          75.33333333333333,
          83.45833333333333,
          63.791666666666664,
          52.833333333333336,
          43.208333333333336,
          43.958333333333336,
          49.541666666666664,
          44.708333333333336,
          49.333333333333336,
          42.291666666666664,
          51.458333333333336,
          43.4152834479301,
          40.91639002291935,
          44.708333333333336,
          56.833333333333336,
          68.91666666666667,
          68.875,
          66.45833333333333,
          45.708333333333336,
          47.083333333333336,
          43.375,
          43.958333333333336,
          44.541666666666664,
          47.270833333333336,
          48.291666666666664,
          48.833333333333336,
          56.166666666666664,
          44,
          45.875,
          49.291666666666664,
          53.791666666666664,
          45.041666666666664,
          39.958333333333336,
          54.375,
          47.125,
          47.083333333333336,
          47.166666666666664,
          41.458333333333336,
          48,
          35.549723356252684,
          41.708333333333336,
          48.541666666666664,
          31.049723356252684,
          35.799723356252684,
          34.541666666666664,
          26.75,
          30.291666666666668,
          28.375,
          43.208333333333336,
          35.583333333333336,
          45,
          56.458333333333336,
          49.166666666666664,
          34.333333333333336,
          47,
          46.875,
          33.833333333333336,
          31,
          36.041666666666664,
          38.75,
          27.958333333333332,
          33.333333333333336,
          41.041666666666664,
          36.079166666666666,
          43.458333333333336,
          45.208333333333336,
          49.125,
          44.958333333333336,
          47.875,
          50,
          40.833333333333336,
          42.875,
          48.583333333333336,
          55.71639002291935,
          38.5,
          40.375,
          36.708333333333336,
          34.583333333333336,
          48.25,
          41.625,
          30.333333333333332,
          38.625,
          46.291666666666664,
          53.75,
          68.91666666666667,
          55.666666666666664,
          64.30833333333334,
          38.87916666666667,
          42.625,
          40.541666666666664,
          36.375,
          35.791666666666664,
          61.333333333333336,
          61.25,
          61.25,
          57.458333333333336,
          62.041666666666664,
          61.666666666666664,
          53.625,
          63.75,
          79.625,
          60.666666666666664,
          45.041666666666664,
          57.94166666666666,
          35.799723356252684,
          30.916666666666668,
          42.5,
          63.458333333333336,
          47.583333333333336,
          65.66666666666667,
          63.916666666666664,
          27.625,
          36.958333333333336,
          52.791666666666664,
          86.95833333333333,
          51.125,
          27,
          78.66666666666667,
          55.583333333333336,
          52.583333333333336,
          41.708333333333336,
          34.0625,
          24.791666666666668,
          19.208333333333332,
          31.166666666666668,
          52.375,
          63.25,
          100.58333333333333,
          61.458333333333336,
          54.333333333333336,
          62.583333333333336,
          68.375,
          78.29166666666667,
          92.08333333333333,
          74.54972335625268,
          105.125,
          98.125,
          42.375,
          83.375,
          110.5,
          67,
          85,
          107.70833333333333,
          96,
          73.54166666666667,
          80.08333333333333,
          105.83333333333333,
          76.375,
          74.75,
          83.21249999999999,
          58.166666666666664,
          39.49583333333333,
          81.41666666666667,
          83,
          42.291666666666664,
          97.04166666666667,
          84.29166666666667,
          60.666666666666664,
          87.58333333333333,
          96.04166666666667,
          64.16666666666667,
          110.33333333333333,
          99.33333333333333,
          83.95833333333333,
          69.41666666666667,
          66.41666666666667,
          79.45833333333333,
          91.25,
          83.375,
          95.66666666666667,
          96.25,
          96.875,
          57.29139002291935,
          57.458333333333336,
          92.79166666666667,
          82.08333333333333,
          95.5,
          53.041666666666664,
          69.70833333333333,
          86.125,
          106.70833333333333,
          102.875,
          120.875,
          65,
          86.16666666666667,
          88.79166666666667,
          54.583333333333336,
          44.375,
          68.04166666666667,
          59.375,
          44.666666666666664,
          64.125,
          129.91666666666666,
          118.79166666666667,
          76.625,
          39.541666666666664,
          56.799723356252684,
          69.41666666666667,
          52.083333333333336,
          53.666666666666664,
          69,
          75.70833333333333,
          90.08333333333333,
          69.70833333333333,
          51.25,
          76.83333333333333,
          56.130434782608695,
          46.958333333333336,
          78.83333333333333,
          73.08333333333333,
          86.45833333333333,
          124.79166666666667,
          47.041666666666664,
          42.420833333333334,
          73.04166666666667,
          83.125,
          92.875,
          95.16250000000001,
          90.79166666666667,
          85.29166666666667,
          58.125,
          56.291666666666664,
          95.79166666666667,
          94.91666666666667,
          96.38305668958601,
          86.66666666666667,
          164.45000000000002,
          108.20833333333333,
          67.125,
          93.41666666666667,
          91.45833333333333,
          79.08333333333333,
          65.2633469416989,
          67.95833333333333,
          80.58333333333333,
          71.3359733562527,
          55.16390022919352,
          34.458333333333336,
          30.125,
          64.36556009167741,
          66.18945351668815,
          41.875,
          31.5,
          44.458333333333336,
          77.04166666666667,
          75.44583333333334,
          73.875,
          95.41666666666667,
          60.916666666666664,
          67.66666666666667,
          67.64166666666667,
          55.875,
          48,
          73.08333333333333,
          102.625,
          72.41250000000001,
          57.083333333333336,
          77.625,
          99.29166666666667,
          136.79166666666666,
          59.083333333333336,
          46.166666666666664,
          44.875,
          30.083333333333332,
          22.208333333333332,
          42,
          44.708333333333336,
          55.125,
          73.16666666666667,
          59.333333333333336,
          46.208333333333336,
          58.333333333333336,
          50.041666666666664,
          53.708333333333336,
          65.54166666666667,
          75.125,
          54.5,
          56.541666666666664,
          36.333333333333336,
          45.291666666666664,
          70.75,
          66.41666666666667,
          59.375,
          73.125,
          49.541666666666664,
          57.7875,
          63.625,
          50.75,
          70.15083333333332,
          66.66666666666667,
          91.79166666666667,
          78.58333333333333,
          64.75,
          55.291666666666664,
          52.125,
          71.04166666666667,
          72.08333333333333,
          39.25,
          29.541666666666668,
          43.75,
          47,
          67.79166666666667,
          54.125,
          61.416666666666664,
          54.458333333333336,
          39.395833333333336,
          41.208333333333336,
          48.625,
          45.291666666666664,
          38.375,
          33.541666666666664,
          37.458333333333336,
          26.5,
          39.208333333333336,
          51.541666666666664,
          44.833333333333336,
          35.5375,
          32.708333333333336,
          31.99166666666667,
          28.25,
          42.291666666666664,
          57.25,
          49.708333333333336,
          51.32916666666667,
          60.208333333333336,
          53.958333333333336,
          56.375,
          79.79208333333334,
          108.65125,
          122.12845833333334,
          129.74958333333333,
          133.93166666666667,
          122.495,
          118.71625,
          124.18791666666668,
          146.36166666666665,
          153.69791666666666,
          130.594625,
          73.69454166666667,
          49.215833333333336,
          34.70166666666667,
          45.23333333333333,
          57.015791666666665,
          51.845416666666665,
          33.21041666666667,
          26.1875,
          33.02305668958602,
          33.80166666666667,
          38.41291666666667,
          36.99666666666667,
          39.16375,
          32.84875,
          31.238333333333333,
          40.939166666666665,
          41.77791666666666,
          49.92041666666666,
          51.22208333333333,
          50.89654166666667,
          53.906666666666666,
          69.65516666666666,
          61.38041666666667,
          67.60958333333333,
          59.439166666666665,
          74.7775,
          76.09833333333333,
          59.52333333333333,
          58.37361678126343,
          50.291666666666664,
          49.875,
          46,
          41.612500000000004,
          56.791666666666664,
          72,
          48.708333333333336,
          40.583333333333336,
          44.958333333333336,
          38.18629166666667,
          48.50805668958602,
          39,
          42.25,
          54.875,
          58.458333333333336,
          49.083333333333336,
          66.16666666666667,
          49.9,
          58.541666666666664,
          67.04166666666667,
          72.22845833333334,
          73.5,
          45.041666666666664,
          49.208333333333336,
          47.833333333333336,
          61.166666666666664,
          69.20833333333333
         ]
        },
        {
         "marker": {
          "size": 6,
          "symbol": "circle"
         },
         "mode": "markers",
         "name": "is_holiday",
         "type": "scatter",
         "x": [
          "2022-01-01T00:00:00",
          "2022-02-07T00:00:00",
          "2022-03-21T00:00:00",
          "2022-05-01T00:00:00",
          "2022-09-16T00:00:00",
          "2022-11-21T00:00:00",
          "2022-12-25T00:00:00",
          "2023-01-01T00:00:00",
          "2023-02-06T00:00:00",
          "2023-03-20T00:00:00",
          "2023-05-01T00:00:00"
         ],
         "y": [
          68.58333333333333,
          65.70833333333333,
          71.20833333333333,
          50.63305668958602,
          36.041666666666664,
          31.166666666666668,
          87.58333333333333,
          66.41666666666667,
          75.70833333333333,
          44.458333333333336,
          57.7875
         ]
        },
        {
         "marker": {
          "size": 6,
          "symbol": "circle"
         },
         "mode": "markers",
         "name": "is_weekend",
         "type": "scatter",
         "x": [
          "2022-01-01T00:00:00",
          "2022-01-02T00:00:00",
          "2022-01-08T00:00:00",
          "2022-01-09T00:00:00",
          "2022-01-15T00:00:00",
          "2022-01-16T00:00:00",
          "2022-01-22T00:00:00",
          "2022-01-23T00:00:00",
          "2022-01-29T00:00:00",
          "2022-01-30T00:00:00",
          "2022-02-05T00:00:00",
          "2022-02-06T00:00:00",
          "2022-02-12T00:00:00",
          "2022-02-13T00:00:00",
          "2022-02-19T00:00:00",
          "2022-02-20T00:00:00",
          "2022-02-26T00:00:00",
          "2022-02-27T00:00:00",
          "2022-03-05T00:00:00",
          "2022-03-06T00:00:00",
          "2022-03-12T00:00:00",
          "2022-03-13T00:00:00",
          "2022-03-19T00:00:00",
          "2022-03-20T00:00:00",
          "2022-03-26T00:00:00",
          "2022-03-27T00:00:00",
          "2022-04-02T00:00:00",
          "2022-04-03T00:00:00",
          "2022-04-09T00:00:00",
          "2022-04-10T00:00:00",
          "2022-04-16T00:00:00",
          "2022-04-17T00:00:00",
          "2022-04-23T00:00:00",
          "2022-04-24T00:00:00",
          "2022-04-30T00:00:00",
          "2022-05-01T00:00:00",
          "2022-05-07T00:00:00",
          "2022-05-08T00:00:00",
          "2022-05-14T00:00:00",
          "2022-05-15T00:00:00",
          "2022-05-21T00:00:00",
          "2022-05-22T00:00:00",
          "2022-05-28T00:00:00",
          "2022-05-29T00:00:00",
          "2022-06-04T00:00:00",
          "2022-06-05T00:00:00",
          "2022-06-11T00:00:00",
          "2022-06-12T00:00:00",
          "2022-06-18T00:00:00",
          "2022-06-19T00:00:00",
          "2022-06-25T00:00:00",
          "2022-06-26T00:00:00",
          "2022-07-02T00:00:00",
          "2022-07-03T00:00:00",
          "2022-07-09T00:00:00",
          "2022-07-10T00:00:00",
          "2022-07-16T00:00:00",
          "2022-07-17T00:00:00",
          "2022-07-23T00:00:00",
          "2022-07-24T00:00:00",
          "2022-07-30T00:00:00",
          "2022-07-31T00:00:00",
          "2022-08-06T00:00:00",
          "2022-08-07T00:00:00",
          "2022-08-13T00:00:00",
          "2022-08-14T00:00:00",
          "2022-08-20T00:00:00",
          "2022-08-21T00:00:00",
          "2022-08-27T00:00:00",
          "2022-08-28T00:00:00",
          "2022-09-03T00:00:00",
          "2022-09-04T00:00:00",
          "2022-09-10T00:00:00",
          "2022-09-11T00:00:00",
          "2022-09-17T00:00:00",
          "2022-09-18T00:00:00",
          "2022-09-24T00:00:00",
          "2022-09-25T00:00:00",
          "2022-10-01T00:00:00",
          "2022-10-02T00:00:00",
          "2022-10-08T00:00:00",
          "2022-10-09T00:00:00",
          "2022-10-15T00:00:00",
          "2022-10-16T00:00:00",
          "2022-10-22T00:00:00",
          "2022-10-23T00:00:00",
          "2022-10-29T00:00:00",
          "2022-10-30T00:00:00",
          "2022-11-05T00:00:00",
          "2022-11-06T00:00:00",
          "2022-11-12T00:00:00",
          "2022-11-13T00:00:00",
          "2022-11-19T00:00:00",
          "2022-11-20T00:00:00",
          "2022-11-26T00:00:00",
          "2022-11-27T00:00:00",
          "2022-12-03T00:00:00",
          "2022-12-04T00:00:00",
          "2022-12-10T00:00:00",
          "2022-12-11T00:00:00",
          "2022-12-17T00:00:00",
          "2022-12-18T00:00:00",
          "2022-12-24T00:00:00",
          "2022-12-25T00:00:00",
          "2022-12-31T00:00:00",
          "2023-01-01T00:00:00",
          "2023-01-07T00:00:00",
          "2023-01-08T00:00:00",
          "2023-01-14T00:00:00",
          "2023-01-15T00:00:00",
          "2023-01-21T00:00:00",
          "2023-01-22T00:00:00",
          "2023-01-28T00:00:00",
          "2023-01-29T00:00:00",
          "2023-02-04T00:00:00",
          "2023-02-05T00:00:00",
          "2023-02-11T00:00:00",
          "2023-02-12T00:00:00",
          "2023-02-18T00:00:00",
          "2023-02-19T00:00:00",
          "2023-02-25T00:00:00",
          "2023-02-26T00:00:00",
          "2023-03-04T00:00:00",
          "2023-03-05T00:00:00",
          "2023-03-11T00:00:00",
          "2023-03-12T00:00:00",
          "2023-03-18T00:00:00",
          "2023-03-19T00:00:00",
          "2023-03-25T00:00:00",
          "2023-03-26T00:00:00",
          "2023-04-01T00:00:00",
          "2023-04-02T00:00:00",
          "2023-04-08T00:00:00",
          "2023-04-09T00:00:00",
          "2023-04-15T00:00:00",
          "2023-04-16T00:00:00",
          "2023-04-22T00:00:00",
          "2023-04-23T00:00:00",
          "2023-04-29T00:00:00",
          "2023-04-30T00:00:00",
          "2023-05-06T00:00:00",
          "2023-05-07T00:00:00",
          "2023-05-13T00:00:00",
          "2023-05-14T00:00:00",
          "2023-05-20T00:00:00",
          "2023-05-21T00:00:00",
          "2023-05-27T00:00:00",
          "2023-05-28T00:00:00",
          "2023-06-03T00:00:00",
          "2023-06-04T00:00:00",
          "2023-06-10T00:00:00",
          "2023-06-11T00:00:00",
          "2023-06-17T00:00:00",
          "2023-06-18T00:00:00",
          "2023-06-24T00:00:00",
          "2023-06-25T00:00:00",
          "2023-07-01T00:00:00",
          "2023-07-02T00:00:00",
          "2023-07-08T00:00:00",
          "2023-07-09T00:00:00",
          "2023-07-15T00:00:00",
          "2023-07-16T00:00:00",
          "2023-07-22T00:00:00",
          "2023-07-23T00:00:00",
          "2023-07-29T00:00:00",
          "2023-07-30T00:00:00",
          "2023-08-05T00:00:00",
          "2023-08-06T00:00:00",
          "2023-08-12T00:00:00",
          "2023-08-13T00:00:00"
         ],
         "y": [
          68.58333333333333,
          84.875,
          109.33333333333333,
          110.29166666666667,
          171.9625,
          106.66666666666667,
          64.125,
          40.14111337917203,
          45.291666666666664,
          60.10473696461825,
          47.666666666666664,
          65.33333333333333,
          115.625,
          50.916666666666664,
          51.041666666666664,
          62.833333333333336,
          72.97083333333333,
          60.291666666666664,
          59.99583333333334,
          62.875,
          57.958333333333336,
          45.025,
          69.66666666666667,
          57.375,
          84.45833333333333,
          74.375,
          73.125,
          64.28750000000001,
          91.45833333333333,
          75.22916666666667,
          73.45833333333333,
          68.54166666666667,
          56.07916666666667,
          52.725,
          68.375,
          50.63305668958602,
          72.91666666666667,
          84.25,
          63.333333333333336,
          57.25,
          86.33333333333333,
          58.041666666666664,
          68.29166666666667,
          65.66666666666667,
          52.75,
          53.083333333333336,
          59.875,
          68.71639002291936,
          51.75,
          33,
          44.125,
          39.625,
          62.625,
          42.5,
          60.833333333333336,
          43.458333333333336,
          71.25,
          85.875,
          52.833333333333336,
          43.208333333333336,
          51.458333333333336,
          43.4152834479301,
          66.45833333333333,
          45.708333333333336,
          48.291666666666664,
          48.833333333333336,
          45.041666666666664,
          39.958333333333336,
          48,
          35.549723356252684,
          26.75,
          30.291666666666668,
          49.166666666666664,
          34.333333333333336,
          38.75,
          27.958333333333332,
          49.125,
          44.958333333333336,
          55.71639002291935,
          38.5,
          30.333333333333332,
          38.625,
          38.87916666666667,
          42.625,
          61.25,
          57.458333333333336,
          60.666666666666664,
          45.041666666666664,
          47.583333333333336,
          65.66666666666667,
          51.125,
          27,
          24.791666666666668,
          19.208333333333332,
          54.333333333333336,
          62.583333333333336,
          98.125,
          42.375,
          96,
          73.54166666666667,
          58.166666666666664,
          39.49583333333333,
          60.666666666666664,
          87.58333333333333,
          69.41666666666667,
          66.41666666666667,
          96.875,
          57.29139002291935,
          69.70833333333333,
          86.125,
          88.79166666666667,
          54.583333333333336,
          129.91666666666666,
          118.79166666666667,
          53.666666666666664,
          69,
          56.130434782608695,
          46.958333333333336,
          42.420833333333334,
          73.04166666666667,
          58.125,
          56.291666666666664,
          108.20833333333333,
          67.125,
          80.58333333333333,
          71.3359733562527,
          41.875,
          31.5,
          60.916666666666664,
          67.66666666666667,
          72.41250000000001,
          57.083333333333336,
          44.875,
          30.083333333333332,
          59.333333333333336,
          46.208333333333336,
          54.5,
          56.541666666666664,
          73.125,
          49.541666666666664,
          91.79166666666667,
          78.58333333333333,
          39.25,
          29.541666666666668,
          54.458333333333336,
          39.395833333333336,
          37.458333333333336,
          26.5,
          31.99166666666667,
          28.25,
          53.958333333333336,
          56.375,
          122.495,
          118.71625,
          49.215833333333336,
          34.70166666666667,
          33.02305668958602,
          33.80166666666667,
          40.939166666666665,
          41.77791666666666,
          61.38041666666667,
          67.60958333333333,
          50.291666666666664,
          49.875,
          40.583333333333336,
          44.958333333333336,
          58.458333333333336,
          49.083333333333336,
          73.5,
          45.041666666666664
         ]
        },
        {
         "marker": {
          "size": 6,
          "symbol": "circle"
         },
         "mode": "markers",
         "name": "is_37_day_cycle",
         "type": "scatter",
         "x": [
          "2022-01-03T00:00:00",
          "2022-02-09T00:00:00",
          "2022-03-18T00:00:00",
          "2022-04-24T00:00:00",
          "2022-05-31T00:00:00",
          "2022-07-07T00:00:00",
          "2022-08-13T00:00:00",
          "2022-09-19T00:00:00",
          "2022-10-26T00:00:00",
          "2022-12-02T00:00:00",
          "2023-01-08T00:00:00",
          "2023-02-14T00:00:00",
          "2023-03-23T00:00:00",
          "2023-04-29T00:00:00",
          "2023-06-05T00:00:00",
          "2023-07-12T00:00:00"
         ],
         "y": [
          41.916666666666664,
          78.83333333333333,
          169.58333333333334,
          52.725,
          55.24083673542472,
          51.625,
          48.291666666666664,
          33.333333333333336,
          53.625,
          105.125,
          57.29139002291935,
          73.08333333333333,
          73.875,
          73.125,
          42.291666666666664,
          50.89654166666667
         ]
        }
       ],
       "layout": {
        "template": {
         "data": {
          "bar": [
           {
            "error_x": {
             "color": "#2a3f5f"
            },
            "error_y": {
             "color": "#2a3f5f"
            },
            "marker": {
             "line": {
              "color": "#E5ECF6",
              "width": 0.5
             },
             "pattern": {
              "fillmode": "overlay",
              "size": 10,
              "solidity": 0.2
             }
            },
            "type": "bar"
           }
          ],
          "barpolar": [
           {
            "marker": {
             "line": {
              "color": "#E5ECF6",
              "width": 0.5
             },
             "pattern": {
              "fillmode": "overlay",
              "size": 10,
              "solidity": 0.2
             }
            },
            "type": "barpolar"
           }
          ],
          "carpet": [
           {
            "aaxis": {
             "endlinecolor": "#2a3f5f",
             "gridcolor": "white",
             "linecolor": "white",
             "minorgridcolor": "white",
             "startlinecolor": "#2a3f5f"
            },
            "baxis": {
             "endlinecolor": "#2a3f5f",
             "gridcolor": "white",
             "linecolor": "white",
             "minorgridcolor": "white",
             "startlinecolor": "#2a3f5f"
            },
            "type": "carpet"
           }
          ],
          "choropleth": [
           {
            "colorbar": {
             "outlinewidth": 0,
             "ticks": ""
            },
            "type": "choropleth"
           }
          ],
          "contour": [
           {
            "colorbar": {
             "outlinewidth": 0,
             "ticks": ""
            },
            "colorscale": [
             [
              0,
              "#0d0887"
             ],
             [
              0.1111111111111111,
              "#46039f"
             ],
             [
              0.2222222222222222,
              "#7201a8"
             ],
             [
              0.3333333333333333,
              "#9c179e"
             ],
             [
              0.4444444444444444,
              "#bd3786"
             ],
             [
              0.5555555555555556,
              "#d8576b"
             ],
             [
              0.6666666666666666,
              "#ed7953"
             ],
             [
              0.7777777777777778,
              "#fb9f3a"
             ],
             [
              0.8888888888888888,
              "#fdca26"
             ],
             [
              1,
              "#f0f921"
             ]
            ],
            "type": "contour"
           }
          ],
          "contourcarpet": [
           {
            "colorbar": {
             "outlinewidth": 0,
             "ticks": ""
            },
            "type": "contourcarpet"
           }
          ],
          "heatmap": [
           {
            "colorbar": {
             "outlinewidth": 0,
             "ticks": ""
            },
            "colorscale": [
             [
              0,
              "#0d0887"
             ],
             [
              0.1111111111111111,
              "#46039f"
             ],
             [
              0.2222222222222222,
              "#7201a8"
             ],
             [
              0.3333333333333333,
              "#9c179e"
             ],
             [
              0.4444444444444444,
              "#bd3786"
             ],
             [
              0.5555555555555556,
              "#d8576b"
             ],
             [
              0.6666666666666666,
              "#ed7953"
             ],
             [
              0.7777777777777778,
              "#fb9f3a"
             ],
             [
              0.8888888888888888,
              "#fdca26"
             ],
             [
              1,
              "#f0f921"
             ]
            ],
            "type": "heatmap"
           }
          ],
          "heatmapgl": [
           {
            "colorbar": {
             "outlinewidth": 0,
             "ticks": ""
            },
            "colorscale": [
             [
              0,
              "#0d0887"
             ],
             [
              0.1111111111111111,
              "#46039f"
             ],
             [
              0.2222222222222222,
              "#7201a8"
             ],
             [
              0.3333333333333333,
              "#9c179e"
             ],
             [
              0.4444444444444444,
              "#bd3786"
             ],
             [
              0.5555555555555556,
              "#d8576b"
             ],
             [
              0.6666666666666666,
              "#ed7953"
             ],
             [
              0.7777777777777778,
              "#fb9f3a"
             ],
             [
              0.8888888888888888,
              "#fdca26"
             ],
             [
              1,
              "#f0f921"
             ]
            ],
            "type": "heatmapgl"
           }
          ],
          "histogram": [
           {
            "marker": {
             "pattern": {
              "fillmode": "overlay",
              "size": 10,
              "solidity": 0.2
             }
            },
            "type": "histogram"
           }
          ],
          "histogram2d": [
           {
            "colorbar": {
             "outlinewidth": 0,
             "ticks": ""
            },
            "colorscale": [
             [
              0,
              "#0d0887"
             ],
             [
              0.1111111111111111,
              "#46039f"
             ],
             [
              0.2222222222222222,
              "#7201a8"
             ],
             [
              0.3333333333333333,
              "#9c179e"
             ],
             [
              0.4444444444444444,
              "#bd3786"
             ],
             [
              0.5555555555555556,
              "#d8576b"
             ],
             [
              0.6666666666666666,
              "#ed7953"
             ],
             [
              0.7777777777777778,
              "#fb9f3a"
             ],
             [
              0.8888888888888888,
              "#fdca26"
             ],
             [
              1,
              "#f0f921"
             ]
            ],
            "type": "histogram2d"
           }
          ],
          "histogram2dcontour": [
           {
            "colorbar": {
             "outlinewidth": 0,
             "ticks": ""
            },
            "colorscale": [
             [
              0,
              "#0d0887"
             ],
             [
              0.1111111111111111,
              "#46039f"
             ],
             [
              0.2222222222222222,
              "#7201a8"
             ],
             [
              0.3333333333333333,
              "#9c179e"
             ],
             [
              0.4444444444444444,
              "#bd3786"
             ],
             [
              0.5555555555555556,
              "#d8576b"
             ],
             [
              0.6666666666666666,
              "#ed7953"
             ],
             [
              0.7777777777777778,
              "#fb9f3a"
             ],
             [
              0.8888888888888888,
              "#fdca26"
             ],
             [
              1,
              "#f0f921"
             ]
            ],
            "type": "histogram2dcontour"
           }
          ],
          "mesh3d": [
           {
            "colorbar": {
             "outlinewidth": 0,
             "ticks": ""
            },
            "type": "mesh3d"
           }
          ],
          "parcoords": [
           {
            "line": {
             "colorbar": {
              "outlinewidth": 0,
              "ticks": ""
             }
            },
            "type": "parcoords"
           }
          ],
          "pie": [
           {
            "automargin": true,
            "type": "pie"
           }
          ],
          "scatter": [
           {
            "fillpattern": {
             "fillmode": "overlay",
             "size": 10,
             "solidity": 0.2
            },
            "type": "scatter"
           }
          ],
          "scatter3d": [
           {
            "line": {
             "colorbar": {
              "outlinewidth": 0,
              "ticks": ""
             }
            },
            "marker": {
             "colorbar": {
              "outlinewidth": 0,
              "ticks": ""
             }
            },
            "type": "scatter3d"
           }
          ],
          "scattercarpet": [
           {
            "marker": {
             "colorbar": {
              "outlinewidth": 0,
              "ticks": ""
             }
            },
            "type": "scattercarpet"
           }
          ],
          "scattergeo": [
           {
            "marker": {
             "colorbar": {
              "outlinewidth": 0,
              "ticks": ""
             }
            },
            "type": "scattergeo"
           }
          ],
          "scattergl": [
           {
            "marker": {
             "colorbar": {
              "outlinewidth": 0,
              "ticks": ""
             }
            },
            "type": "scattergl"
           }
          ],
          "scattermapbox": [
           {
            "marker": {
             "colorbar": {
              "outlinewidth": 0,
              "ticks": ""
             }
            },
            "type": "scattermapbox"
           }
          ],
          "scatterpolar": [
           {
            "marker": {
             "colorbar": {
              "outlinewidth": 0,
              "ticks": ""
             }
            },
            "type": "scatterpolar"
           }
          ],
          "scatterpolargl": [
           {
            "marker": {
             "colorbar": {
              "outlinewidth": 0,
              "ticks": ""
             }
            },
            "type": "scatterpolargl"
           }
          ],
          "scatterternary": [
           {
            "marker": {
             "colorbar": {
              "outlinewidth": 0,
              "ticks": ""
             }
            },
            "type": "scatterternary"
           }
          ],
          "surface": [
           {
            "colorbar": {
             "outlinewidth": 0,
             "ticks": ""
            },
            "colorscale": [
             [
              0,
              "#0d0887"
             ],
             [
              0.1111111111111111,
              "#46039f"
             ],
             [
              0.2222222222222222,
              "#7201a8"
             ],
             [
              0.3333333333333333,
              "#9c179e"
             ],
             [
              0.4444444444444444,
              "#bd3786"
             ],
             [
              0.5555555555555556,
              "#d8576b"
             ],
             [
              0.6666666666666666,
              "#ed7953"
             ],
             [
              0.7777777777777778,
              "#fb9f3a"
             ],
             [
              0.8888888888888888,
              "#fdca26"
             ],
             [
              1,
              "#f0f921"
             ]
            ],
            "type": "surface"
           }
          ],
          "table": [
           {
            "cells": {
             "fill": {
              "color": "#EBF0F8"
             },
             "line": {
              "color": "white"
             }
            },
            "header": {
             "fill": {
              "color": "#C8D4E3"
             },
             "line": {
              "color": "white"
             }
            },
            "type": "table"
           }
          ]
         },
         "layout": {
          "annotationdefaults": {
           "arrowcolor": "#2a3f5f",
           "arrowhead": 0,
           "arrowwidth": 1
          },
          "autotypenumbers": "strict",
          "coloraxis": {
           "colorbar": {
            "outlinewidth": 0,
            "ticks": ""
           }
          },
          "colorscale": {
           "diverging": [
            [
             0,
             "#8e0152"
            ],
            [
             0.1,
             "#c51b7d"
            ],
            [
             0.2,
             "#de77ae"
            ],
            [
             0.3,
             "#f1b6da"
            ],
            [
             0.4,
             "#fde0ef"
            ],
            [
             0.5,
             "#f7f7f7"
            ],
            [
             0.6,
             "#e6f5d0"
            ],
            [
             0.7,
             "#b8e186"
            ],
            [
             0.8,
             "#7fbc41"
            ],
            [
             0.9,
             "#4d9221"
            ],
            [
             1,
             "#276419"
            ]
           ],
           "sequential": [
            [
             0,
             "#0d0887"
            ],
            [
             0.1111111111111111,
             "#46039f"
            ],
            [
             0.2222222222222222,
             "#7201a8"
            ],
            [
             0.3333333333333333,
             "#9c179e"
            ],
            [
             0.4444444444444444,
             "#bd3786"
            ],
            [
             0.5555555555555556,
             "#d8576b"
            ],
            [
             0.6666666666666666,
             "#ed7953"
            ],
            [
             0.7777777777777778,
             "#fb9f3a"
            ],
            [
             0.8888888888888888,
             "#fdca26"
            ],
            [
             1,
             "#f0f921"
            ]
           ],
           "sequentialminus": [
            [
             0,
             "#0d0887"
            ],
            [
             0.1111111111111111,
             "#46039f"
            ],
            [
             0.2222222222222222,
             "#7201a8"
            ],
            [
             0.3333333333333333,
             "#9c179e"
            ],
            [
             0.4444444444444444,
             "#bd3786"
            ],
            [
             0.5555555555555556,
             "#d8576b"
            ],
            [
             0.6666666666666666,
             "#ed7953"
            ],
            [
             0.7777777777777778,
             "#fb9f3a"
            ],
            [
             0.8888888888888888,
             "#fdca26"
            ],
            [
             1,
             "#f0f921"
            ]
           ]
          },
          "colorway": [
           "#636efa",
           "#EF553B",
           "#00cc96",
           "#ab63fa",
           "#FFA15A",
           "#19d3f3",
           "#FF6692",
           "#B6E880",
           "#FF97FF",
           "#FECB52"
          ],
          "font": {
           "color": "#2a3f5f"
          },
          "geo": {
           "bgcolor": "white",
           "lakecolor": "white",
           "landcolor": "#E5ECF6",
           "showlakes": true,
           "showland": true,
           "subunitcolor": "white"
          },
          "hoverlabel": {
           "align": "left"
          },
          "hovermode": "closest",
          "mapbox": {
           "style": "light"
          },
          "paper_bgcolor": "white",
          "plot_bgcolor": "#E5ECF6",
          "polar": {
           "angularaxis": {
            "gridcolor": "white",
            "linecolor": "white",
            "ticks": ""
           },
           "bgcolor": "#E5ECF6",
           "radialaxis": {
            "gridcolor": "white",
            "linecolor": "white",
            "ticks": ""
           }
          },
          "scene": {
           "xaxis": {
            "backgroundcolor": "#E5ECF6",
            "gridcolor": "white",
            "gridwidth": 2,
            "linecolor": "white",
            "showbackground": true,
            "ticks": "",
            "zerolinecolor": "white"
           },
           "yaxis": {
            "backgroundcolor": "#E5ECF6",
            "gridcolor": "white",
            "gridwidth": 2,
            "linecolor": "white",
            "showbackground": true,
            "ticks": "",
            "zerolinecolor": "white"
           },
           "zaxis": {
            "backgroundcolor": "#E5ECF6",
            "gridcolor": "white",
            "gridwidth": 2,
            "linecolor": "white",
            "showbackground": true,
            "ticks": "",
            "zerolinecolor": "white"
           }
          },
          "shapedefaults": {
           "line": {
            "color": "#2a3f5f"
           }
          },
          "ternary": {
           "aaxis": {
            "gridcolor": "white",
            "linecolor": "white",
            "ticks": ""
           },
           "baxis": {
            "gridcolor": "white",
            "linecolor": "white",
            "ticks": ""
           },
           "bgcolor": "#E5ECF6",
           "caxis": {
            "gridcolor": "white",
            "linecolor": "white",
            "ticks": ""
           }
          },
          "title": {
           "x": 0.05
          },
          "xaxis": {
           "automargin": true,
           "gridcolor": "white",
           "linecolor": "white",
           "ticks": "",
           "title": {
            "standoff": 15
           },
           "zerolinecolor": "white",
           "zerolinewidth": 2
          },
          "yaxis": {
           "automargin": true,
           "gridcolor": "white",
           "linecolor": "white",
           "ticks": "",
           "title": {
            "standoff": 15
           },
           "zerolinecolor": "white",
           "zerolinewidth": 2
          }
         }
        },
        "xaxis": {
         "rangeselector": {
          "buttons": [
           {
            "count": 7,
            "label": "1w",
            "step": "day",
            "stepmode": "backward"
           },
           {
            "count": 1,
            "label": "1m",
            "step": "month",
            "stepmode": "backward"
           },
           {
            "step": "all"
           }
          ]
         },
         "rangeslider": {
          "visible": true
         }
        }
       }
      }
     },
     "metadata": {},
     "output_type": "display_data"
    }
   ],
   "source": [
    "graficar_serie_tiempo(Monterrey_PM10, \"PM10\", [\"is_holiday\", \"is_weekend\", \"is_37_day_cycle\"])"
   ]
  },
  {
   "cell_type": "code",
   "execution_count": 13,
   "metadata": {},
   "outputs": [
    {
     "data": {
      "image/png": "[encoded data removed]",
      "text/plain": [
       "<Figure size 1200x800 with 4 Axes>"
      ]
     },
     "metadata": {},
     "output_type": "display_data"
    }
   ],
   "source": [
    "# Descomposición estacional de la serie temporal\n",
    "seasonal_monterrey_pm10 = seasonal_decompose(Monterrey_PM10[\"PM10\"], model='additive', period=4)\n",
    "\n",
    "# Obtener la figura generada por la descomposición\n",
    "fig = seasonal_monterrey_pm10.plot()\n",
    "\n",
    "# Ajustar el tamaño de la figura\n",
    "fig.set_size_inches(12, 8)  # Cambia (12, 8) por las dimensiones deseadas\n",
    "\n",
    "# Mostrar el gráfico\n",
    "plt.show()"
   ]
  },
  {
   "cell_type": "markdown",
   "metadata": {},
   "source": [
    "## SO2"
   ]
  },
  {
   "cell_type": "code",
   "execution_count": null,
   "metadata": {},
   "outputs": [],
   "source": []
  },
  {
   "cell_type": "markdown",
   "metadata": {},
   "source": [
    "## CO"
   ]
  },
  {
   "cell_type": "code",
   "execution_count": 14,
   "metadata": {},
   "outputs": [],
   "source": [
    "Monterrey_CO = daily_Monterrey[[\"CO\", \"PRS\", \"RAINF\", \"RH\", \"SO2\", \"SR\", \"TOUT\", \"WSR\", \"WDR\"]]"
   ]
  },
  {
   "cell_type": "markdown",
   "metadata": {},
   "source": [
    "## NOX"
   ]
  },
  {
   "cell_type": "code",
   "execution_count": 15,
   "metadata": {},
   "outputs": [],
   "source": [
    "Monterrey_NOX = daily_Monterrey[[\"NOX\", \"PRS\", \"RAINF\", \"RH\", \"SO2\", \"SR\", \"TOUT\", \"WSR\", \"WDR\"]]"
   ]
  },
  {
   "cell_type": "markdown",
   "metadata": {},
   "source": [
    "## COV (No viene)"
   ]
  },
  {
   "cell_type": "markdown",
   "metadata": {},
   "source": [
    "## NH3"
   ]
  },
  {
   "cell_type": "code",
   "execution_count": null,
   "metadata": {},
   "outputs": [],
   "source": []
  }
 ],
 "metadata": {
  "kernelspec": {
   "display_name": "venv",
   "language": "python",
   "name": "python3"
  },
  "language_info": {
   "codemirror_mode": {
    "name": "ipython",
    "version": 3
   },
   "file_extension": ".py",
   "mimetype": "text/x-python",
   "name": "python",
   "nbconvert_exporter": "python",
   "pygments_lexer": "ipython3",
   "version": "3.10.11"
  }
 },
 "nbformat": 4,
 "nbformat_minor": 2
}
