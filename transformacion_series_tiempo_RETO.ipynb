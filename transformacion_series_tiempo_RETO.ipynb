{
 "cells": [
  {
   "cell_type": "code",
   "execution_count": 55,
   "metadata": {},
   "outputs": [],
   "source": [
    "#!pip install statsmodels"
   ]
  },
  {
   "cell_type": "code",
   "execution_count": 29,
   "metadata": {},
   "outputs": [],
   "source": [
    "import pandas as pd\n",
    "import numpy as np\n",
    "import matplotlib.pyplot as plt\n",
    "from statsmodels.tsa.stattools import adfuller, kpss #pruebas de estacionariedad\n",
    "from statsmodels.tsa.stattools import adfuller"
   ]
  },
  {
   "cell_type": "code",
   "execution_count": 2,
   "metadata": {},
   "outputs": [],
   "source": [
    "norte = pd.read_csv(\"Datos_22_24_NORTE_limpios.csv\", parse_dates=[0], index_col=\"date\")\n",
    "noreste = pd.read_csv(\"Datos_22_24_NORESTE_limpios.csv\", parse_dates=[0], index_col=\"date\")\n",
    "noreste2 = pd.read_csv(\"Datos_22_24_NORESTE2_limpios.csv\", parse_dates=[0], index_col=\"date\")\n",
    "sureste = pd.read_csv(\"Datos_22_24_SURESTE_limpios.csv\", parse_dates=[0], index_col=\"date\")\n",
    "centro = pd.read_csv(\"Datos_22_24_CENTRO_limpios.csv\", parse_dates=[0], index_col=\"date\")"
   ]
  },
  {
   "cell_type": "code",
   "execution_count": 4,
   "metadata": {},
   "outputs": [
    {
     "name": "stdout",
     "output_type": "stream",
     "text": [
      "Dimensiones: (943, 15)\n"
     ]
    },
    {
     "data": {
      "text/html": [
       "<div>\n",
       "<style scoped>\n",
       "    .dataframe tbody tr th:only-of-type {\n",
       "        vertical-align: middle;\n",
       "    }\n",
       "\n",
       "    .dataframe tbody tr th {\n",
       "        vertical-align: top;\n",
       "    }\n",
       "\n",
       "    .dataframe thead th {\n",
       "        text-align: right;\n",
       "    }\n",
       "</style>\n",
       "<table border=\"1\" class=\"dataframe\">\n",
       "  <thead>\n",
       "    <tr style=\"text-align: right;\">\n",
       "      <th></th>\n",
       "      <th>CO</th>\n",
       "      <th>NO</th>\n",
       "      <th>NO2</th>\n",
       "      <th>NOX</th>\n",
       "      <th>O3</th>\n",
       "      <th>PM10</th>\n",
       "      <th>PM2.5</th>\n",
       "      <th>PRS</th>\n",
       "      <th>RAINF</th>\n",
       "      <th>RH</th>\n",
       "      <th>SO2</th>\n",
       "      <th>SR</th>\n",
       "      <th>TOUT</th>\n",
       "      <th>WSR</th>\n",
       "      <th>WDR</th>\n",
       "    </tr>\n",
       "    <tr>\n",
       "      <th>date</th>\n",
       "      <th></th>\n",
       "      <th></th>\n",
       "      <th></th>\n",
       "      <th></th>\n",
       "      <th></th>\n",
       "      <th></th>\n",
       "      <th></th>\n",
       "      <th></th>\n",
       "      <th></th>\n",
       "      <th></th>\n",
       "      <th></th>\n",
       "      <th></th>\n",
       "      <th></th>\n",
       "      <th></th>\n",
       "      <th></th>\n",
       "    </tr>\n",
       "  </thead>\n",
       "  <tbody>\n",
       "    <tr>\n",
       "      <th>2022-01-01</th>\n",
       "      <td>1.53</td>\n",
       "      <td>5.15</td>\n",
       "      <td>18.90</td>\n",
       "      <td>24.26</td>\n",
       "      <td>25.42</td>\n",
       "      <td>68.58</td>\n",
       "      <td>29.17</td>\n",
       "      <td>705.87</td>\n",
       "      <td>0.0</td>\n",
       "      <td>24.79</td>\n",
       "      <td>4.33</td>\n",
       "      <td>0.15</td>\n",
       "      <td>26.11</td>\n",
       "      <td>5.73</td>\n",
       "      <td>185.29</td>\n",
       "    </tr>\n",
       "    <tr>\n",
       "      <th>2022-01-02</th>\n",
       "      <td>1.23</td>\n",
       "      <td>3.76</td>\n",
       "      <td>12.31</td>\n",
       "      <td>16.24</td>\n",
       "      <td>26.65</td>\n",
       "      <td>84.88</td>\n",
       "      <td>11.75</td>\n",
       "      <td>716.48</td>\n",
       "      <td>0.0</td>\n",
       "      <td>25.08</td>\n",
       "      <td>5.18</td>\n",
       "      <td>0.14</td>\n",
       "      <td>14.48</td>\n",
       "      <td>9.77</td>\n",
       "      <td>80.17</td>\n",
       "    </tr>\n",
       "    <tr>\n",
       "      <th>2022-01-03</th>\n",
       "      <td>1.20</td>\n",
       "      <td>5.14</td>\n",
       "      <td>12.60</td>\n",
       "      <td>17.99</td>\n",
       "      <td>31.67</td>\n",
       "      <td>41.92</td>\n",
       "      <td>7.23</td>\n",
       "      <td>720.07</td>\n",
       "      <td>0.0</td>\n",
       "      <td>24.96</td>\n",
       "      <td>3.55</td>\n",
       "      <td>0.15</td>\n",
       "      <td>9.79</td>\n",
       "      <td>9.21</td>\n",
       "      <td>77.50</td>\n",
       "    </tr>\n",
       "    <tr>\n",
       "      <th>2022-01-04</th>\n",
       "      <td>1.74</td>\n",
       "      <td>20.23</td>\n",
       "      <td>37.89</td>\n",
       "      <td>58.31</td>\n",
       "      <td>18.38</td>\n",
       "      <td>76.00</td>\n",
       "      <td>30.66</td>\n",
       "      <td>714.47</td>\n",
       "      <td>0.0</td>\n",
       "      <td>30.42</td>\n",
       "      <td>5.98</td>\n",
       "      <td>0.14</td>\n",
       "      <td>12.90</td>\n",
       "      <td>4.74</td>\n",
       "      <td>171.33</td>\n",
       "    </tr>\n",
       "    <tr>\n",
       "      <th>2022-01-05</th>\n",
       "      <td>1.66</td>\n",
       "      <td>15.48</td>\n",
       "      <td>36.30</td>\n",
       "      <td>51.99</td>\n",
       "      <td>25.10</td>\n",
       "      <td>88.12</td>\n",
       "      <td>27.82</td>\n",
       "      <td>710.17</td>\n",
       "      <td>0.0</td>\n",
       "      <td>24.27</td>\n",
       "      <td>7.10</td>\n",
       "      <td>0.15</td>\n",
       "      <td>19.87</td>\n",
       "      <td>6.28</td>\n",
       "      <td>167.63</td>\n",
       "    </tr>\n",
       "  </tbody>\n",
       "</table>\n",
       "</div>"
      ],
      "text/plain": [
       "              CO     NO    NO2    NOX     O3   PM10  PM2.5     PRS  RAINF  \\\n",
       "date                                                                        \n",
       "2022-01-01  1.53   5.15  18.90  24.26  25.42  68.58  29.17  705.87    0.0   \n",
       "2022-01-02  1.23   3.76  12.31  16.24  26.65  84.88  11.75  716.48    0.0   \n",
       "2022-01-03  1.20   5.14  12.60  17.99  31.67  41.92   7.23  720.07    0.0   \n",
       "2022-01-04  1.74  20.23  37.89  58.31  18.38  76.00  30.66  714.47    0.0   \n",
       "2022-01-05  1.66  15.48  36.30  51.99  25.10  88.12  27.82  710.17    0.0   \n",
       "\n",
       "               RH   SO2    SR   TOUT   WSR     WDR  \n",
       "date                                                \n",
       "2022-01-01  24.79  4.33  0.15  26.11  5.73  185.29  \n",
       "2022-01-02  25.08  5.18  0.14  14.48  9.77   80.17  \n",
       "2022-01-03  24.96  3.55  0.15   9.79  9.21   77.50  \n",
       "2022-01-04  30.42  5.98  0.14  12.90  4.74  171.33  \n",
       "2022-01-05  24.27  7.10  0.15  19.87  6.28  167.63  "
      ]
     },
     "execution_count": 4,
     "metadata": {},
     "output_type": "execute_result"
    }
   ],
   "source": [
    "#Hace los datos diarios en lugar de por hora, utiliza la media\n",
    "centro = centro.resample('D').mean() \n",
    "print(\"Dimensiones:\", centro.shape)\n",
    "centro.head().round(2)"
   ]
  },
  {
   "cell_type": "markdown",
   "metadata": {},
   "source": [
    "# Estacionalización"
   ]
  },
  {
   "cell_type": "markdown",
   "metadata": {},
   "source": [
    "Se utilizaran las pruebas Augmented Dickey-Fuller (ADF) y Kwiatkowski-Phillips-Schmidt-Shin (KPSS) para evaluar la estacionariedad de las series de tiempo.\n",
    "\n",
    "**Prueba Augmented Dickey-Fuller (ADF)**\n",
    "- $H_0$: La serie tiene una raíz unitaria, es decir, **NO** es estacionaria.\n",
    "- $H_1$: La serie **no** tiene una raíz unitaria, es decir, **SI** es estacionaria.\n",
    "\n",
    "**Kwiatkowski-Phillips-Schmidt-Shin (KPSS)**\n",
    "- $H_0$: La serie **SI** es estacionaria (con respecto a una constante o tendencia).\n",
    "- $H_1$: La serie es **NO** estacionaria (no se mantiene estacionaria en torno a una constante o tendencia).\n",
    "\n",
    "Se utilizara un nivel de significancia $(\\alpha)$ de $0.05$"
   ]
  },
  {
   "cell_type": "markdown",
   "metadata": {},
   "source": [
    "Para la funcion `kpss()`:\n",
    "\n",
    "El parametro *regression* es la hipotesis nula del test: {\"c\", \"ct\"}\n",
    "- \"c\": Hay estacionariedad a **nivel** (Stationary around a constant)\n",
    "- \"ct\": Hay estacionariedad de **tendencia** (Stationary around a trend)\n",
    "\n",
    "Y para la funcion `adfuller()`:\n",
    "\n",
    "El parametro *regression*: {“c”, ”ct”, ”ctt”, ”n”}\n",
    "- “c” : constant **only**.\n",
    "- “ct” : constant **and** trend."
   ]
  },
  {
   "cell_type": "code",
   "execution_count": 11,
   "metadata": {},
   "outputs": [],
   "source": [
    "# Función para prueba ADF\n",
    "def prueba_adf(serie):\n",
    "    print(\"-- ADF a nivel --\")\n",
    "    resultado = adfuller(serie, regression = \"c\")\n",
    "    print(f'Estadístico ADF: {resultado[0]}')\n",
    "    print(f'Valor p: {resultado[1]}')\n",
    "    print('Valores Críticos:')\n",
    "    if resultado[1] <= 0.05:\n",
    "        print(\"La serie SI es estacionaria a nivel (rechazamos la hipótesis nula).\")\n",
    "    else:\n",
    "        print(\"La serie NO es estacionaria a nivel (no rechazamos la hipótesis nula).\")\n",
    "        \n",
    "    print(\"\\n-- ADF de tendencia --\")\n",
    "    resultado = adfuller(serie, regression = \"ct\")\n",
    "    print(f'Estadístico ADF: {resultado[0]}')\n",
    "    print(f'Valor p: {resultado[1]}')\n",
    "    print('Valores Críticos:')\n",
    "    if resultado[1] <= 0.05:\n",
    "        print(\"La serie SI es estacionaria a nivel y tendencia (rechazamos la hipótesis nula).\")\n",
    "    else:\n",
    "        print(\"La serie NO es estacionaria a nivel y tendencia (no rechazamos la hipótesis nula).\")\n",
    "\n",
    "# Función para prueba KPSS\n",
    "def prueba_kpss(serie):\n",
    "    print(\"-- KPSS a nivel --\")\n",
    "    resultado = kpss(serie, regression = \"c\")\n",
    "    print(f'Estadístico KPSS: {resultado[0]}')\n",
    "    print(f'Valor p: {resultado[1]}')\n",
    "    print('Valores Críticos:')\n",
    "    if resultado[1] <= 0.05:\n",
    "        print(\"La serie NO es estacionaria a nivel (rechazamos la hipótesis nula).\")\n",
    "    else:\n",
    "        print(\"La serie SI es estacionaria a nivel (no rechazamos la hipótesis nula).\")\n",
    "    \n",
    "    print(\"\\n-- KPSS de tendencia --\")\n",
    "    resultado = kpss(serie, regression = \"ct\")\n",
    "    print(f'Estadístico KPSS: {resultado[0]}')\n",
    "    print(f'Valor p: {resultado[1]}')\n",
    "    print('Valores Críticos:')\n",
    "    if resultado[1] <= 0.05:\n",
    "        print(\"La serie NO es estacionaria a tendencia (rechazamos la hipótesis nula).\")\n",
    "    else:\n",
    "        print(\"La serie SI es estacionaria a tendencia (no rechazamos la hipótesis nula).\")"
   ]
  },
  {
   "cell_type": "markdown",
   "metadata": {},
   "source": [
    "## Region Centro"
   ]
  },
  {
   "cell_type": "markdown",
   "metadata": {},
   "source": [
    "### PM10"
   ]
  },
  {
   "cell_type": "code",
   "execution_count": 31,
   "metadata": {},
   "outputs": [
    {
     "data": {
      "image/png": "[encoded data removed]",
      "text/plain": [
       "<Figure size 1000x500 with 1 Axes>"
      ]
     },
     "metadata": {},
     "output_type": "display_data"
    }
   ],
   "source": [
    "plt.rcParams.update({'figure.figsize': (10,5)})\n",
    "centro[\"PM10\"].plot()\n",
    "plt.title(\"Serie de tiempo para PM10 region Centro\")\n",
    "plt.xlabel(\"Fecha\");\n",
    "plt.ylabel(\"Nivel de PM10\");"
   ]
  },
  {
   "cell_type": "code",
   "execution_count": 7,
   "metadata": {},
   "outputs": [
    {
     "name": "stdout",
     "output_type": "stream",
     "text": [
      "-- ADF a nivel --\n",
      "Estadístico ADF: -7.239542273265946\n",
      "Valor p: 1.900198380711834e-10\n",
      "Valores Críticos:\n",
      "La serie SI es estacionaria a nivel (rechazamos la hipótesis nula).\n",
      "\n",
      "-- ADF de tendencia --\n",
      "Estadístico ADF: -7.240204381014418\n",
      "Valor p: 4.0174323672875075e-09\n",
      "Valores Críticos:\n",
      "La serie SI es estacionaria a nivel y tendencia (rechazamos la hipótesis nula).\n"
     ]
    }
   ],
   "source": [
    "# Prueba ADF para PM10 region centro\n",
    "prueba_adf(centro[\"PM10\"])"
   ]
  },
  {
   "cell_type": "code",
   "execution_count": 12,
   "metadata": {},
   "outputs": [
    {
     "name": "stdout",
     "output_type": "stream",
     "text": [
      "-- KPSS a nivel --\n",
      "Estadístico KPSS: 0.183512522805079\n",
      "Valor p: 0.1\n",
      "Valores Críticos:\n",
      "La serie SI es estacionaria a nivel (no rechazamos la hipótesis nula).\n",
      "\n",
      "-- KPSS de tendencia --\n",
      "Estadístico KPSS: 0.17559759198015376\n",
      "Valor p: 0.025335340016538525\n",
      "Valores Críticos:\n",
      "La serie NO es estacionaria a tendencia (rechazamos la hipótesis nula).\n"
     ]
    },
    {
     "name": "stderr",
     "output_type": "stream",
     "text": [
      "/var/folders/lv/34x2z89s3s3bys5fzpv8k45c0000gn/T/ipykernel_40140/981804481.py:26: InterpolationWarning: The test statistic is outside of the range of p-values available in the\n",
      "look-up table. The actual p-value is greater than the p-value returned.\n",
      "\n",
      "  resultado = kpss(serie, regression = \"c\")\n"
     ]
    }
   ],
   "source": [
    "# Prueba KPSS para PM10 region centro\n",
    "prueba_kpss(centro[\"PM10\"])"
   ]
  },
  {
   "cell_type": "markdown",
   "metadata": {},
   "source": [
    "**Interpretación:** Los resultados indican que:\n",
    "\n",
    "Prueba ADF:\n",
    "- La serie es estacionaria tanto a nivel como a nivel y tendencia (rechazamos la hipótesis nula en ambos casos).\n",
    "\n",
    "Prueba KPSS:\n",
    "- La serie es estacionaria a nivel (no rechazamos la hipótesis nula).\n",
    "- La serie no es estacionaria a tendencia (rechazamos la hipótesis nula).\n",
    "\n",
    "Estos resultados crean una aparente discrepancia en cuanto a la estacionalidad con respecto a la tendencia. Esto sugiere que, dado que la prueba ADF detecta estacionalidad a tendencia y constante, mientras que KPSS no detecta estacionalidad alrededor de una tendencia, podríamos considerar que la tendencia que KPSS no detecta como estacionaria es insignificante y se puede eliminar simplemente al remover una constante."
   ]
  },
  {
   "cell_type": "markdown",
   "metadata": {},
   "source": [
    "### CO"
   ]
  },
  {
   "cell_type": "code",
   "execution_count": 39,
   "metadata": {},
   "outputs": [
    {
     "data": {
      "image/png": "[encoded data removed]",
      "text/plain": [
       "<Figure size 1000x500 with 1 Axes>"
      ]
     },
     "metadata": {},
     "output_type": "display_data"
    }
   ],
   "source": [
    "centro[\"CO\"].plot()\n",
    "plt.title(\"Serie de tiempo para CO region Centro\")\n",
    "plt.xlabel(\"Fecha\");\n",
    "plt.ylabel(\"Nivel de CO\");"
   ]
  },
  {
   "cell_type": "code",
   "execution_count": 35,
   "metadata": {},
   "outputs": [
    {
     "name": "stdout",
     "output_type": "stream",
     "text": [
      "-- ADF a nivel --\n",
      "Estadístico ADF: -3.9149686621232855\n",
      "Valor p: 0.0019274064374656288\n",
      "Valores Críticos:\n",
      "La serie SI es estacionaria a nivel (rechazamos la hipótesis nula).\n",
      "\n",
      "-- ADF de tendencia --\n",
      "Estadístico ADF: -4.00672449535995\n",
      "Valor p: 0.008602135546341646\n",
      "Valores Críticos:\n",
      "La serie SI es estacionaria a nivel y tendencia (rechazamos la hipótesis nula).\n"
     ]
    }
   ],
   "source": [
    "prueba_adf(centro[\"CO\"])"
   ]
  },
  {
   "cell_type": "code",
   "execution_count": 36,
   "metadata": {},
   "outputs": [
    {
     "name": "stdout",
     "output_type": "stream",
     "text": [
      "-- KPSS a nivel --\n",
      "Estadístico KPSS: 0.2681001257422356\n",
      "Valor p: 0.1\n",
      "Valores Críticos:\n",
      "La serie SI es estacionaria a nivel (no rechazamos la hipótesis nula).\n",
      "\n",
      "-- KPSS de tendencia --\n",
      "Estadístico KPSS: 0.1644224848782161\n",
      "Valor p: 0.03464792926815325\n",
      "Valores Críticos:\n",
      "La serie NO es estacionaria a tendencia (rechazamos la hipótesis nula).\n"
     ]
    },
    {
     "name": "stderr",
     "output_type": "stream",
     "text": [
      "/var/folders/lv/34x2z89s3s3bys5fzpv8k45c0000gn/T/ipykernel_40140/981804481.py:26: InterpolationWarning: The test statistic is outside of the range of p-values available in the\n",
      "look-up table. The actual p-value is greater than the p-value returned.\n",
      "\n",
      "  resultado = kpss(serie, regression = \"c\")\n"
     ]
    }
   ],
   "source": [
    "prueba_kpss(centro[\"CO\"])"
   ]
  },
  {
   "cell_type": "markdown",
   "metadata": {},
   "source": [
    "Mismos resultados que para el caso de *PM10*, continuamos dado que se asume que la tendencia que KPPS no detecta como estacionaria es insignificante."
   ]
  },
  {
   "cell_type": "markdown",
   "metadata": {},
   "source": [
    "### NOX"
   ]
  },
  {
   "cell_type": "code",
   "execution_count": 40,
   "metadata": {},
   "outputs": [
    {
     "data": {
      "image/png": "[encoded data removed]",
      "text/plain": [
       "<Figure size 1000x500 with 1 Axes>"
      ]
     },
     "metadata": {},
     "output_type": "display_data"
    }
   ],
   "source": [
    "centro[\"NOX\"].plot()\n",
    "plt.title(\"Serie de tiempo para NOX region Centro\")\n",
    "plt.xlabel(\"Fecha\");\n",
    "plt.ylabel(\"Nivel de NOX\");"
   ]
  },
  {
   "cell_type": "code",
   "execution_count": 41,
   "metadata": {},
   "outputs": [
    {
     "name": "stdout",
     "output_type": "stream",
     "text": [
      "-- ADF a nivel --\n",
      "Estadístico ADF: -3.794109662438077\n",
      "Valor p: 0.0029681590783902046\n",
      "Valores Críticos:\n",
      "La serie SI es estacionaria a nivel (rechazamos la hipótesis nula).\n",
      "\n",
      "-- ADF de tendencia --\n",
      "Estadístico ADF: -3.7830409030504484\n",
      "Valor p: 0.017438994949205366\n",
      "Valores Críticos:\n",
      "La serie SI es estacionaria a nivel y tendencia (rechazamos la hipótesis nula).\n"
     ]
    }
   ],
   "source": [
    "prueba_adf(centro[\"NOX\"])"
   ]
  },
  {
   "cell_type": "code",
   "execution_count": 42,
   "metadata": {},
   "outputs": [
    {
     "name": "stdout",
     "output_type": "stream",
     "text": [
      "-- KPSS a nivel --\n",
      "Estadístico KPSS: 0.1841992638132991\n",
      "Valor p: 0.1\n",
      "Valores Críticos:\n",
      "La serie SI es estacionaria a nivel (no rechazamos la hipótesis nula).\n",
      "\n",
      "-- KPSS de tendencia --\n",
      "Estadístico KPSS: 0.19271560352308245\n",
      "Valor p: 0.018731648678844078\n",
      "Valores Críticos:\n",
      "La serie NO es estacionaria a tendencia (rechazamos la hipótesis nula).\n"
     ]
    },
    {
     "name": "stderr",
     "output_type": "stream",
     "text": [
      "/var/folders/lv/34x2z89s3s3bys5fzpv8k45c0000gn/T/ipykernel_40140/981804481.py:26: InterpolationWarning: The test statistic is outside of the range of p-values available in the\n",
      "look-up table. The actual p-value is greater than the p-value returned.\n",
      "\n",
      "  resultado = kpss(serie, regression = \"c\")\n"
     ]
    }
   ],
   "source": [
    "prueba_kpss(centro[\"NOX\"])"
   ]
  },
  {
   "cell_type": "markdown",
   "metadata": {},
   "source": [
    "Mismos resultados que para el caso de *PM10* y *CO*, continuamos dado que se asume que la tendencia que KPPS no detecta como estacionaria es insignificante."
   ]
  },
  {
   "cell_type": "markdown",
   "metadata": {},
   "source": [
    "### Resto de las columnas"
   ]
  },
  {
   "cell_type": "code",
   "execution_count": 58,
   "metadata": {},
   "outputs": [
    {
     "data": {
      "text/plain": [
       "Index(['CO', 'NO', 'NO2', 'NOX', 'O3', 'PM10', 'PM2.5', 'PRS', 'RAINF', 'RH',\n",
       "       'SO2', 'SR', 'TOUT', 'WSR', 'WDR'],\n",
       "      dtype='object')"
      ]
     },
     "execution_count": 58,
     "metadata": {},
     "output_type": "execute_result"
    }
   ],
   "source": [
    "centro.columns"
   ]
  },
  {
   "cell_type": "code",
   "execution_count": 59,
   "metadata": {},
   "outputs": [
    {
     "name": "stdout",
     "output_type": "stream",
     "text": [
      "--NO--\n",
      "-- ADF a nivel --\n",
      "Estadístico ADF: -5.617488225860813\n",
      "Valor p: 1.1653838594264145e-06\n",
      "Valores Críticos:\n",
      "La serie SI es estacionaria a nivel (rechazamos la hipótesis nula).\n",
      "\n",
      "-- ADF de tendencia --\n",
      "Estadístico ADF: -5.621631879714851\n",
      "Valor p: 1.3186583520627775e-05\n",
      "Valores Críticos:\n",
      "La serie SI es estacionaria a nivel y tendencia (rechazamos la hipótesis nula).\n",
      "-- KPSS a nivel --\n",
      "Estadístico KPSS: 0.2152072715337063\n",
      "Valor p: 0.1\n",
      "Valores Críticos:\n",
      "La serie SI es estacionaria a nivel (no rechazamos la hipótesis nula).\n",
      "\n",
      "-- KPSS de tendencia --\n",
      "Estadístico KPSS: 0.18738503178419258\n",
      "Valor p: 0.02073061308092778\n",
      "Valores Críticos:\n",
      "La serie NO es estacionaria a tendencia (rechazamos la hipótesis nula).\n",
      "\n",
      "\n",
      "\n",
      "--NO2--\n",
      "-- ADF a nivel --\n",
      "Estadístico ADF: -3.55074543154473\n",
      "Valor p: 0.006775570406624585\n",
      "Valores Críticos:\n",
      "La serie SI es estacionaria a nivel (rechazamos la hipótesis nula).\n",
      "\n",
      "-- ADF de tendencia --\n",
      "Estadístico ADF: -3.5116539645988043\n",
      "Valor p: 0.038160267146919606\n",
      "Valores Críticos:\n",
      "La serie SI es estacionaria a nivel y tendencia (rechazamos la hipótesis nula).\n",
      "-- KPSS a nivel --\n",
      "Estadístico KPSS: 0.21734452896005058\n",
      "Valor p: 0.1\n",
      "Valores Críticos:\n",
      "La serie SI es estacionaria a nivel (no rechazamos la hipótesis nula).\n",
      "\n",
      "-- KPSS de tendencia --\n",
      "Estadístico KPSS: 0.2007956102993963\n",
      "Valor p: 0.015701646137726386\n",
      "Valores Críticos:\n",
      "La serie NO es estacionaria a tendencia (rechazamos la hipótesis nula).\n",
      "\n",
      "\n",
      "\n",
      "--O3--\n",
      "-- ADF a nivel --\n",
      "Estadístico ADF: -2.9679124894767477\n",
      "Valor p: 0.03800157787227272\n",
      "Valores Críticos:\n",
      "La serie SI es estacionaria a nivel (rechazamos la hipótesis nula).\n",
      "\n",
      "-- ADF de tendencia --\n",
      "Estadístico ADF: -3.02236082272837\n",
      "Valor p: 0.12593634053783814\n",
      "Valores Críticos:\n",
      "La serie NO es estacionaria a nivel y tendencia (no rechazamos la hipótesis nula).\n",
      "-- KPSS a nivel --\n",
      "Estadístico KPSS: 0.9838655702271081\n",
      "Valor p: 0.01\n",
      "Valores Críticos:\n",
      "La serie NO es estacionaria a nivel (rechazamos la hipótesis nula).\n",
      "\n",
      "-- KPSS de tendencia --\n",
      "Estadístico KPSS: 0.18545471411476291\n",
      "Valor p: 0.021454482206963905\n",
      "Valores Críticos:\n",
      "La serie NO es estacionaria a tendencia (rechazamos la hipótesis nula).\n",
      "\n",
      "\n",
      "\n",
      "--PM2.5--\n",
      "-- ADF a nivel --\n",
      "Estadístico ADF: -8.755361913421696\n",
      "Valor p: 2.764798073038455e-14\n",
      "Valores Críticos:\n",
      "La serie SI es estacionaria a nivel (rechazamos la hipótesis nula).\n",
      "\n",
      "-- ADF de tendencia --\n",
      "Estadístico ADF: -8.751441700375992\n",
      "Valor p: 1.3319250843988528e-12\n",
      "Valores Críticos:\n",
      "La serie SI es estacionaria a nivel y tendencia (rechazamos la hipótesis nula).\n",
      "-- KPSS a nivel --\n",
      "Estadístico KPSS: 0.13027536060793785\n",
      "Valor p: 0.1\n",
      "Valores Críticos:\n",
      "La serie SI es estacionaria a nivel (no rechazamos la hipótesis nula).\n",
      "\n",
      "-- KPSS de tendencia --\n",
      "Estadístico KPSS: 0.129919676524865\n",
      "Valor p: 0.07977837680580555\n",
      "Valores Críticos:\n",
      "La serie SI es estacionaria a tendencia (no rechazamos la hipótesis nula).\n",
      "\n",
      "\n",
      "\n",
      "--PRS--\n",
      "-- ADF a nivel --\n",
      "Estadístico ADF: -3.6558619625742845\n",
      "Valor p: 0.004778613461059398\n",
      "Valores Críticos:\n",
      "La serie SI es estacionaria a nivel (rechazamos la hipótesis nula).\n",
      "\n",
      "-- ADF de tendencia --\n",
      "Estadístico ADF: -3.649762333277248\n",
      "Valor p: 0.02588607398745758\n",
      "Valores Críticos:\n",
      "La serie SI es estacionaria a nivel y tendencia (rechazamos la hipótesis nula).\n",
      "-- KPSS a nivel --\n",
      "Estadístico KPSS: 0.4503894728747817\n",
      "Valor p: 0.055435572036732036\n",
      "Valores Críticos:\n",
      "La serie SI es estacionaria a nivel (no rechazamos la hipótesis nula).\n",
      "\n",
      "-- KPSS de tendencia --\n",
      "Estadístico KPSS: 0.17295472918083343\n",
      "Valor p: 0.0275377256826388\n",
      "Valores Críticos:\n",
      "La serie NO es estacionaria a tendencia (rechazamos la hipótesis nula).\n",
      "\n",
      "\n",
      "\n",
      "--RAINF--\n",
      "-- ADF a nivel --\n",
      "Estadístico ADF: -7.466765169753503\n",
      "Valor p: 5.179863738928564e-11\n",
      "Valores Críticos:\n",
      "La serie SI es estacionaria a nivel (rechazamos la hipótesis nula).\n",
      "\n",
      "-- ADF de tendencia --\n",
      "Estadístico ADF: -7.688605108831121\n",
      "Valor p: 3.7461270214659753e-10\n",
      "Valores Críticos:\n",
      "La serie SI es estacionaria a nivel y tendencia (rechazamos la hipótesis nula).\n",
      "-- KPSS a nivel --\n",
      "Estadístico KPSS: 0.5023080416748208\n",
      "Valor p: 0.041146837460625946\n",
      "Valores Críticos:\n",
      "La serie NO es estacionaria a nivel (rechazamos la hipótesis nula).\n",
      "\n",
      "-- KPSS de tendencia --\n",
      "Estadístico KPSS: 0.15759764438313517\n",
      "Valor p: 0.04033529634738735\n",
      "Valores Críticos:\n",
      "La serie NO es estacionaria a tendencia (rechazamos la hipótesis nula).\n",
      "\n",
      "\n",
      "\n",
      "--RH--\n",
      "-- ADF a nivel --\n",
      "Estadístico ADF: -6.8597829438430455\n",
      "Valor p: 1.6135364790670367e-09\n",
      "Valores Críticos:\n",
      "La serie SI es estacionaria a nivel (rechazamos la hipótesis nula).\n",
      "\n",
      "-- ADF de tendencia --\n"
     ]
    },
    {
     "name": "stderr",
     "output_type": "stream",
     "text": [
      "/var/folders/lv/34x2z89s3s3bys5fzpv8k45c0000gn/T/ipykernel_40140/981804481.py:26: InterpolationWarning: The test statistic is outside of the range of p-values available in the\n",
      "look-up table. The actual p-value is greater than the p-value returned.\n",
      "\n",
      "  resultado = kpss(serie, regression = \"c\")\n",
      "/var/folders/lv/34x2z89s3s3bys5fzpv8k45c0000gn/T/ipykernel_40140/981804481.py:26: InterpolationWarning: The test statistic is outside of the range of p-values available in the\n",
      "look-up table. The actual p-value is greater than the p-value returned.\n",
      "\n",
      "  resultado = kpss(serie, regression = \"c\")\n",
      "/var/folders/lv/34x2z89s3s3bys5fzpv8k45c0000gn/T/ipykernel_40140/981804481.py:26: InterpolationWarning: The test statistic is outside of the range of p-values available in the\n",
      "look-up table. The actual p-value is smaller than the p-value returned.\n",
      "\n",
      "  resultado = kpss(serie, regression = \"c\")\n",
      "/var/folders/lv/34x2z89s3s3bys5fzpv8k45c0000gn/T/ipykernel_40140/981804481.py:26: InterpolationWarning: The test statistic is outside of the range of p-values available in the\n",
      "look-up table. The actual p-value is greater than the p-value returned.\n",
      "\n",
      "  resultado = kpss(serie, regression = \"c\")\n",
      "/var/folders/lv/34x2z89s3s3bys5fzpv8k45c0000gn/T/ipykernel_40140/981804481.py:36: InterpolationWarning: The test statistic is outside of the range of p-values available in the\n",
      "look-up table. The actual p-value is greater than the p-value returned.\n",
      "\n",
      "  resultado = kpss(serie, regression = \"ct\")\n"
     ]
    },
    {
     "name": "stdout",
     "output_type": "stream",
     "text": [
      "Estadístico ADF: -8.441718391321112\n",
      "Valor p: 6.830626784232123e-12\n",
      "Valores Críticos:\n",
      "La serie SI es estacionaria a nivel y tendencia (rechazamos la hipótesis nula).\n",
      "-- KPSS a nivel --\n",
      "Estadístico KPSS: 0.48073831191323413\n",
      "Valor p: 0.046004884704226555\n",
      "Valores Críticos:\n",
      "La serie NO es estacionaria a nivel (rechazamos la hipótesis nula).\n",
      "\n",
      "-- KPSS de tendencia --\n",
      "Estadístico KPSS: 0.06656544572857617\n",
      "Valor p: 0.1\n",
      "Valores Críticos:\n",
      "La serie SI es estacionaria a tendencia (no rechazamos la hipótesis nula).\n",
      "\n",
      "\n",
      "\n",
      "--SO2--\n",
      "-- ADF a nivel --\n",
      "Estadístico ADF: -3.038018786724642\n",
      "Valor p: 0.03149325454972761\n",
      "Valores Críticos:\n",
      "La serie SI es estacionaria a nivel (rechazamos la hipótesis nula).\n",
      "\n",
      "-- ADF de tendencia --\n",
      "Estadístico ADF: -4.174503920442229\n",
      "Valor p: 0.004890428494061803\n",
      "Valores Críticos:\n",
      "La serie SI es estacionaria a nivel y tendencia (rechazamos la hipótesis nula).\n",
      "-- KPSS a nivel --\n",
      "Estadístico KPSS: 2.631855501804646\n",
      "Valor p: 0.01\n",
      "Valores Críticos:\n",
      "La serie NO es estacionaria a nivel (rechazamos la hipótesis nula).\n",
      "\n",
      "-- KPSS de tendencia --\n",
      "Estadístico KPSS: 0.40711668882763835\n",
      "Valor p: 0.01\n",
      "Valores Críticos:\n",
      "La serie NO es estacionaria a tendencia (rechazamos la hipótesis nula).\n",
      "\n",
      "\n",
      "\n",
      "--SR--\n",
      "-- ADF a nivel --\n",
      "Estadístico ADF: -2.2236493658646657\n",
      "Valor p: 0.197774329613862\n",
      "Valores Críticos:\n",
      "La serie NO es estacionaria a nivel (no rechazamos la hipótesis nula).\n",
      "\n",
      "-- ADF de tendencia --\n",
      "Estadístico ADF: -2.2222851605808898\n",
      "Valor p: 0.4773187047007462\n",
      "Valores Críticos:\n",
      "La serie NO es estacionaria a nivel y tendencia (no rechazamos la hipótesis nula).\n",
      "-- KPSS a nivel --\n",
      "Estadístico KPSS: 0.22670228640847967\n",
      "Valor p: 0.1\n",
      "Valores Críticos:\n",
      "La serie SI es estacionaria a nivel (no rechazamos la hipótesis nula).\n",
      "\n",
      "-- KPSS de tendencia --\n",
      "Estadístico KPSS: 0.23312069777963004\n",
      "Valor p: 0.01\n",
      "Valores Críticos:\n",
      "La serie NO es estacionaria a tendencia (rechazamos la hipótesis nula).\n",
      "\n",
      "\n",
      "\n",
      "--TOUT--\n",
      "-- ADF a nivel --\n",
      "Estadístico ADF: -2.377942038407755\n",
      "Valor p: 0.1480591268118044\n",
      "Valores Críticos:\n",
      "La serie NO es estacionaria a nivel (no rechazamos la hipótesis nula).\n",
      "\n",
      "-- ADF de tendencia --\n",
      "Estadístico ADF: -2.330331706107632\n",
      "Valor p: 0.4172507669232542\n",
      "Valores Críticos:\n",
      "La serie NO es estacionaria a nivel y tendencia (no rechazamos la hipótesis nula).\n",
      "-- KPSS a nivel --\n",
      "Estadístico KPSS: 0.234523296420934\n",
      "Valor p: 0.1\n",
      "Valores Críticos:\n",
      "La serie SI es estacionaria a nivel (no rechazamos la hipótesis nula).\n",
      "\n",
      "-- KPSS de tendencia --\n",
      "Estadístico KPSS: 0.18678109728414002\n",
      "Valor p: 0.02095708851844749\n",
      "Valores Críticos:\n",
      "La serie NO es estacionaria a tendencia (rechazamos la hipótesis nula).\n",
      "\n",
      "\n",
      "\n",
      "--WSR--\n",
      "-- ADF a nivel --\n",
      "Estadístico ADF: -2.714546730032514\n",
      "Valor p: 0.07155469862971625\n",
      "Valores Críticos:\n",
      "La serie NO es estacionaria a nivel (no rechazamos la hipótesis nula).\n",
      "\n",
      "-- ADF de tendencia --\n",
      "Estadístico ADF: -2.7790347901294536\n",
      "Valor p: 0.20475128213933108\n",
      "Valores Críticos:\n",
      "La serie NO es estacionaria a nivel y tendencia (no rechazamos la hipótesis nula).\n",
      "-- KPSS a nivel --\n",
      "Estadístico KPSS: 0.31274840298064815\n",
      "Valor p: 0.1\n",
      "Valores Críticos:\n",
      "La serie SI es estacionaria a nivel (no rechazamos la hipótesis nula).\n",
      "\n",
      "-- KPSS de tendencia --\n",
      "Estadístico KPSS: 0.21883908516555467\n",
      "Valor p: 0.01\n",
      "Valores Críticos:\n",
      "La serie NO es estacionaria a tendencia (rechazamos la hipótesis nula).\n",
      "\n",
      "\n",
      "\n",
      "--WDR--\n",
      "-- ADF a nivel --\n",
      "Estadístico ADF: -4.053828992758374\n",
      "Valor p: 0.001153446723805632\n",
      "Valores Críticos:\n",
      "La serie SI es estacionaria a nivel (rechazamos la hipótesis nula).\n",
      "\n",
      "-- ADF de tendencia --\n",
      "Estadístico ADF: -4.082327980789286\n",
      "Valor p: 0.0066934400661612554\n",
      "Valores Críticos:\n",
      "La serie SI es estacionaria a nivel y tendencia (rechazamos la hipótesis nula).\n",
      "-- KPSS a nivel --\n",
      "Estadístico KPSS: 0.2287991858510149\n",
      "Valor p: 0.1\n",
      "Valores Críticos:\n",
      "La serie SI es estacionaria a nivel (no rechazamos la hipótesis nula).\n",
      "\n",
      "-- KPSS de tendencia --\n",
      "Estadístico KPSS: 0.1999321693521799\n",
      "Valor p: 0.01602543649293254\n",
      "Valores Críticos:\n",
      "La serie NO es estacionaria a tendencia (rechazamos la hipótesis nula).\n",
      "\n",
      "\n",
      "\n"
     ]
    },
    {
     "name": "stderr",
     "output_type": "stream",
     "text": [
      "/var/folders/lv/34x2z89s3s3bys5fzpv8k45c0000gn/T/ipykernel_40140/981804481.py:26: InterpolationWarning: The test statistic is outside of the range of p-values available in the\n",
      "look-up table. The actual p-value is smaller than the p-value returned.\n",
      "\n",
      "  resultado = kpss(serie, regression = \"c\")\n",
      "/var/folders/lv/34x2z89s3s3bys5fzpv8k45c0000gn/T/ipykernel_40140/981804481.py:36: InterpolationWarning: The test statistic is outside of the range of p-values available in the\n",
      "look-up table. The actual p-value is smaller than the p-value returned.\n",
      "\n",
      "  resultado = kpss(serie, regression = \"ct\")\n",
      "/var/folders/lv/34x2z89s3s3bys5fzpv8k45c0000gn/T/ipykernel_40140/981804481.py:26: InterpolationWarning: The test statistic is outside of the range of p-values available in the\n",
      "look-up table. The actual p-value is greater than the p-value returned.\n",
      "\n",
      "  resultado = kpss(serie, regression = \"c\")\n",
      "/var/folders/lv/34x2z89s3s3bys5fzpv8k45c0000gn/T/ipykernel_40140/981804481.py:36: InterpolationWarning: The test statistic is outside of the range of p-values available in the\n",
      "look-up table. The actual p-value is smaller than the p-value returned.\n",
      "\n",
      "  resultado = kpss(serie, regression = \"ct\")\n",
      "/var/folders/lv/34x2z89s3s3bys5fzpv8k45c0000gn/T/ipykernel_40140/981804481.py:26: InterpolationWarning: The test statistic is outside of the range of p-values available in the\n",
      "look-up table. The actual p-value is greater than the p-value returned.\n",
      "\n",
      "  resultado = kpss(serie, regression = \"c\")\n",
      "/var/folders/lv/34x2z89s3s3bys5fzpv8k45c0000gn/T/ipykernel_40140/981804481.py:26: InterpolationWarning: The test statistic is outside of the range of p-values available in the\n",
      "look-up table. The actual p-value is greater than the p-value returned.\n",
      "\n",
      "  resultado = kpss(serie, regression = \"c\")\n",
      "/var/folders/lv/34x2z89s3s3bys5fzpv8k45c0000gn/T/ipykernel_40140/981804481.py:36: InterpolationWarning: The test statistic is outside of the range of p-values available in the\n",
      "look-up table. The actual p-value is smaller than the p-value returned.\n",
      "\n",
      "  resultado = kpss(serie, regression = \"ct\")\n",
      "/var/folders/lv/34x2z89s3s3bys5fzpv8k45c0000gn/T/ipykernel_40140/981804481.py:26: InterpolationWarning: The test statistic is outside of the range of p-values available in the\n",
      "look-up table. The actual p-value is greater than the p-value returned.\n",
      "\n",
      "  resultado = kpss(serie, regression = \"c\")\n"
     ]
    }
   ],
   "source": [
    "for column in centro.columns:\n",
    "    if column not in ['PM10','CO','NOX']:\n",
    "        print(f\"--{column}--\")\n",
    "        prueba_adf(centro[column])\n",
    "        prueba_kpss(centro[column])\n",
    "        print(\"\\n\\n\")"
   ]
  },
  {
   "cell_type": "markdown",
   "metadata": {},
   "source": [
    "CENTRO NO ESTACIONARIAS: O3, RAINF, RH, SO2, SR, TOUT, WSR"
   ]
  },
  {
   "cell_type": "markdown",
   "metadata": {},
   "source": [
    "## Region Sureste"
   ]
  },
  {
   "cell_type": "code",
   "execution_count": 62,
   "metadata": {},
   "outputs": [
    {
     "name": "stdout",
     "output_type": "stream",
     "text": [
      "--CO--\n",
      "-- ADF a nivel --\n",
      "Estadístico ADF: -3.93674553571669\n",
      "Valor p: 0.0017804608677651108\n",
      "Valores Críticos:\n",
      "La serie SI es estacionaria a nivel (rechazamos la hipótesis nula).\n",
      "\n",
      "-- ADF de tendencia --\n",
      "Estadístico ADF: -3.906200807441314\n",
      "Valor p: 0.011896771656984783\n",
      "Valores Críticos:\n",
      "La serie SI es estacionaria a nivel y tendencia (rechazamos la hipótesis nula).\n",
      "-- KPSS a nivel --\n",
      "Estadístico KPSS: 1.4058261013224207\n",
      "Valor p: 0.01\n",
      "Valores Críticos:\n",
      "La serie NO es estacionaria a nivel (rechazamos la hipótesis nula).\n",
      "\n",
      "-- KPSS de tendencia --\n",
      "Estadístico KPSS: 1.0392355658815768\n",
      "Valor p: 0.01\n",
      "Valores Críticos:\n",
      "La serie NO es estacionaria a tendencia (rechazamos la hipótesis nula).\n",
      "\n",
      "\n",
      "\n",
      "--NO--\n",
      "-- ADF a nivel --\n"
     ]
    },
    {
     "name": "stderr",
     "output_type": "stream",
     "text": [
      "/var/folders/lv/34x2z89s3s3bys5fzpv8k45c0000gn/T/ipykernel_40140/981804481.py:26: InterpolationWarning: The test statistic is outside of the range of p-values available in the\n",
      "look-up table. The actual p-value is smaller than the p-value returned.\n",
      "\n",
      "  resultado = kpss(serie, regression = \"c\")\n",
      "/var/folders/lv/34x2z89s3s3bys5fzpv8k45c0000gn/T/ipykernel_40140/981804481.py:36: InterpolationWarning: The test statistic is outside of the range of p-values available in the\n",
      "look-up table. The actual p-value is smaller than the p-value returned.\n",
      "\n",
      "  resultado = kpss(serie, regression = \"ct\")\n"
     ]
    },
    {
     "name": "stdout",
     "output_type": "stream",
     "text": [
      "Estadístico ADF: -10.412905117197786\n",
      "Valor p: 1.7848861241844315e-18\n",
      "Valores Críticos:\n",
      "La serie SI es estacionaria a nivel (rechazamos la hipótesis nula).\n",
      "\n",
      "-- ADF de tendencia --\n",
      "Estadístico ADF: -10.680046837286874\n",
      "Valor p: 9.290969852099081e-17\n",
      "Valores Críticos:\n",
      "La serie SI es estacionaria a nivel y tendencia (rechazamos la hipótesis nula).\n",
      "-- KPSS a nivel --\n",
      "Estadístico KPSS: 3.189300668898384\n",
      "Valor p: 0.01\n",
      "Valores Críticos:\n",
      "La serie NO es estacionaria a nivel (rechazamos la hipótesis nula).\n",
      "\n",
      "-- KPSS de tendencia --\n",
      "Estadístico KPSS: 0.9367768227684576\n",
      "Valor p: 0.01\n",
      "Valores Críticos:\n",
      "La serie NO es estacionaria a tendencia (rechazamos la hipótesis nula).\n",
      "\n",
      "\n",
      "\n",
      "--NO2--\n",
      "-- ADF a nivel --\n"
     ]
    },
    {
     "name": "stderr",
     "output_type": "stream",
     "text": [
      "/var/folders/lv/34x2z89s3s3bys5fzpv8k45c0000gn/T/ipykernel_40140/981804481.py:26: InterpolationWarning: The test statistic is outside of the range of p-values available in the\n",
      "look-up table. The actual p-value is smaller than the p-value returned.\n",
      "\n",
      "  resultado = kpss(serie, regression = \"c\")\n",
      "/var/folders/lv/34x2z89s3s3bys5fzpv8k45c0000gn/T/ipykernel_40140/981804481.py:36: InterpolationWarning: The test statistic is outside of the range of p-values available in the\n",
      "look-up table. The actual p-value is smaller than the p-value returned.\n",
      "\n",
      "  resultado = kpss(serie, regression = \"ct\")\n"
     ]
    },
    {
     "name": "stdout",
     "output_type": "stream",
     "text": [
      "Estadístico ADF: -10.389619866437473\n",
      "Valor p: 2.037026694787145e-18\n",
      "Valores Críticos:\n",
      "La serie SI es estacionaria a nivel (rechazamos la hipótesis nula).\n",
      "\n",
      "-- ADF de tendencia --\n",
      "Estadístico ADF: -10.390313303601694\n",
      "Valor p: 3.5529906484638536e-16\n",
      "Valores Críticos:\n",
      "La serie SI es estacionaria a nivel y tendencia (rechazamos la hipótesis nula).\n",
      "-- KPSS a nivel --\n",
      "Estadístico KPSS: 0.8314919370302681\n",
      "Valor p: 0.01\n",
      "Valores Críticos:\n",
      "La serie NO es estacionaria a nivel (rechazamos la hipótesis nula).\n",
      "\n",
      "-- KPSS de tendencia --\n",
      "Estadístico KPSS: 0.7815022471676906\n",
      "Valor p: 0.01\n",
      "Valores Críticos:\n",
      "La serie NO es estacionaria a tendencia (rechazamos la hipótesis nula).\n",
      "\n",
      "\n",
      "\n",
      "--NOX--\n",
      "-- ADF a nivel --\n"
     ]
    },
    {
     "name": "stderr",
     "output_type": "stream",
     "text": [
      "/var/folders/lv/34x2z89s3s3bys5fzpv8k45c0000gn/T/ipykernel_40140/981804481.py:26: InterpolationWarning: The test statistic is outside of the range of p-values available in the\n",
      "look-up table. The actual p-value is smaller than the p-value returned.\n",
      "\n",
      "  resultado = kpss(serie, regression = \"c\")\n",
      "/var/folders/lv/34x2z89s3s3bys5fzpv8k45c0000gn/T/ipykernel_40140/981804481.py:36: InterpolationWarning: The test statistic is outside of the range of p-values available in the\n",
      "look-up table. The actual p-value is smaller than the p-value returned.\n",
      "\n",
      "  resultado = kpss(serie, regression = \"ct\")\n"
     ]
    },
    {
     "name": "stdout",
     "output_type": "stream",
     "text": [
      "Estadístico ADF: -9.998626806579443\n",
      "Valor p: 1.9103910924066398e-17\n",
      "Valores Críticos:\n",
      "La serie SI es estacionaria a nivel (rechazamos la hipótesis nula).\n",
      "\n",
      "-- ADF de tendencia --\n",
      "Estadístico ADF: -10.100659007912077\n",
      "Valor p: 1.4148504458616637e-15\n",
      "Valores Críticos:\n",
      "La serie SI es estacionaria a nivel y tendencia (rechazamos la hipótesis nula).\n",
      "-- KPSS a nivel --\n",
      "Estadístico KPSS: 1.9004333179861248\n",
      "Valor p: 0.01\n",
      "Valores Críticos:\n",
      "La serie NO es estacionaria a nivel (rechazamos la hipótesis nula).\n",
      "\n",
      "-- KPSS de tendencia --\n",
      "Estadístico KPSS: 0.8731594671152838\n",
      "Valor p: 0.01\n",
      "Valores Críticos:\n",
      "La serie NO es estacionaria a tendencia (rechazamos la hipótesis nula).\n",
      "\n",
      "\n",
      "\n",
      "--O3--\n",
      "-- ADF a nivel --\n"
     ]
    },
    {
     "name": "stderr",
     "output_type": "stream",
     "text": [
      "/var/folders/lv/34x2z89s3s3bys5fzpv8k45c0000gn/T/ipykernel_40140/981804481.py:26: InterpolationWarning: The test statistic is outside of the range of p-values available in the\n",
      "look-up table. The actual p-value is smaller than the p-value returned.\n",
      "\n",
      "  resultado = kpss(serie, regression = \"c\")\n",
      "/var/folders/lv/34x2z89s3s3bys5fzpv8k45c0000gn/T/ipykernel_40140/981804481.py:36: InterpolationWarning: The test statistic is outside of the range of p-values available in the\n",
      "look-up table. The actual p-value is smaller than the p-value returned.\n",
      "\n",
      "  resultado = kpss(serie, regression = \"ct\")\n"
     ]
    },
    {
     "name": "stdout",
     "output_type": "stream",
     "text": [
      "Estadístico ADF: -9.364707422888229\n",
      "Valor p: 7.655441066131018e-16\n",
      "Valores Críticos:\n",
      "La serie SI es estacionaria a nivel (rechazamos la hipótesis nula).\n",
      "\n",
      "-- ADF de tendencia --\n",
      "Estadístico ADF: -9.373962967797999\n",
      "Valor p: 5.2743895952566024e-14\n",
      "Valores Críticos:\n",
      "La serie SI es estacionaria a nivel y tendencia (rechazamos la hipótesis nula).\n",
      "-- KPSS a nivel --\n",
      "Estadístico KPSS: 1.0428701853368243\n",
      "Valor p: 0.01\n",
      "Valores Críticos:\n",
      "La serie NO es estacionaria a nivel (rechazamos la hipótesis nula).\n",
      "\n",
      "-- KPSS de tendencia --\n",
      "Estadístico KPSS: 0.8858352818407689\n",
      "Valor p: 0.01\n",
      "Valores Críticos:\n",
      "La serie NO es estacionaria a tendencia (rechazamos la hipótesis nula).\n",
      "\n",
      "\n",
      "\n",
      "--PM10--\n",
      "-- ADF a nivel --\n"
     ]
    },
    {
     "name": "stderr",
     "output_type": "stream",
     "text": [
      "/var/folders/lv/34x2z89s3s3bys5fzpv8k45c0000gn/T/ipykernel_40140/981804481.py:26: InterpolationWarning: The test statistic is outside of the range of p-values available in the\n",
      "look-up table. The actual p-value is smaller than the p-value returned.\n",
      "\n",
      "  resultado = kpss(serie, regression = \"c\")\n",
      "/var/folders/lv/34x2z89s3s3bys5fzpv8k45c0000gn/T/ipykernel_40140/981804481.py:36: InterpolationWarning: The test statistic is outside of the range of p-values available in the\n",
      "look-up table. The actual p-value is smaller than the p-value returned.\n",
      "\n",
      "  resultado = kpss(serie, regression = \"ct\")\n"
     ]
    },
    {
     "name": "stdout",
     "output_type": "stream",
     "text": [
      "Estadístico ADF: -12.474439030600344\n",
      "Valor p: 3.191459303191366e-23\n",
      "Valores Críticos:\n",
      "La serie SI es estacionaria a nivel (rechazamos la hipótesis nula).\n",
      "\n",
      "-- ADF de tendencia --\n",
      "Estadístico ADF: -12.485946408352428\n",
      "Valor p: 6.873229822692952e-20\n",
      "Valores Críticos:\n",
      "La serie SI es estacionaria a nivel y tendencia (rechazamos la hipótesis nula).\n",
      "-- KPSS a nivel --\n",
      "Estadístico KPSS: 0.4448651530080608\n",
      "Valor p: 0.057816744393077255\n",
      "Valores Críticos:\n",
      "La serie SI es estacionaria a nivel (no rechazamos la hipótesis nula).\n",
      "\n",
      "-- KPSS de tendencia --\n",
      "Estadístico KPSS: 0.3946629492062494\n",
      "Valor p: 0.01\n",
      "Valores Críticos:\n",
      "La serie NO es estacionaria a tendencia (rechazamos la hipótesis nula).\n",
      "\n",
      "\n",
      "\n",
      "--PM2.5--\n",
      "-- ADF a nivel --\n"
     ]
    },
    {
     "name": "stderr",
     "output_type": "stream",
     "text": [
      "/var/folders/lv/34x2z89s3s3bys5fzpv8k45c0000gn/T/ipykernel_40140/981804481.py:36: InterpolationWarning: The test statistic is outside of the range of p-values available in the\n",
      "look-up table. The actual p-value is smaller than the p-value returned.\n",
      "\n",
      "  resultado = kpss(serie, regression = \"ct\")\n"
     ]
    },
    {
     "name": "stdout",
     "output_type": "stream",
     "text": [
      "Estadístico ADF: -13.218686190733827\n",
      "Valor p: 1.0121125402583481e-24\n",
      "Valores Críticos:\n",
      "La serie SI es estacionaria a nivel (rechazamos la hipótesis nula).\n",
      "\n",
      "-- ADF de tendencia --\n",
      "Estadístico ADF: -13.22744131349927\n",
      "Valor p: 7.1086277991116e-21\n",
      "Valores Críticos:\n",
      "La serie SI es estacionaria a nivel y tendencia (rechazamos la hipótesis nula).\n",
      "-- KPSS a nivel --\n",
      "Estadístico KPSS: 0.46114139320824526\n",
      "Valor p: 0.05080112361713567\n",
      "Valores Críticos:\n",
      "La serie SI es estacionaria a nivel (no rechazamos la hipótesis nula).\n",
      "\n",
      "-- KPSS de tendencia --\n",
      "Estadístico KPSS: 0.3981662138628038\n",
      "Valor p: 0.01\n",
      "Valores Críticos:\n",
      "La serie NO es estacionaria a tendencia (rechazamos la hipótesis nula).\n",
      "\n",
      "\n",
      "\n",
      "--PRS--\n",
      "-- ADF a nivel --\n"
     ]
    },
    {
     "name": "stderr",
     "output_type": "stream",
     "text": [
      "/var/folders/lv/34x2z89s3s3bys5fzpv8k45c0000gn/T/ipykernel_40140/981804481.py:36: InterpolationWarning: The test statistic is outside of the range of p-values available in the\n",
      "look-up table. The actual p-value is smaller than the p-value returned.\n",
      "\n",
      "  resultado = kpss(serie, regression = \"ct\")\n"
     ]
    },
    {
     "name": "stdout",
     "output_type": "stream",
     "text": [
      "Estadístico ADF: -11.86456721644586\n",
      "Valor p: 6.722799863232075e-22\n",
      "Valores Críticos:\n",
      "La serie SI es estacionaria a nivel (rechazamos la hipótesis nula).\n",
      "\n",
      "-- ADF de tendencia --\n",
      "Estadístico ADF: -12.003319820712779\n",
      "Valor p: 3.794298296349358e-19\n",
      "Valores Críticos:\n",
      "La serie SI es estacionaria a nivel y tendencia (rechazamos la hipótesis nula).\n",
      "-- KPSS a nivel --\n",
      "Estadístico KPSS: 0.9625478669173302\n",
      "Valor p: 0.01\n",
      "Valores Críticos:\n",
      "La serie NO es estacionaria a nivel (rechazamos la hipótesis nula).\n",
      "\n",
      "-- KPSS de tendencia --\n",
      "Estadístico KPSS: 0.36118422859640326\n",
      "Valor p: 0.01\n",
      "Valores Críticos:\n",
      "La serie NO es estacionaria a tendencia (rechazamos la hipótesis nula).\n",
      "\n",
      "\n",
      "\n",
      "--RAINF--\n",
      "-- ADF a nivel --\n"
     ]
    },
    {
     "name": "stderr",
     "output_type": "stream",
     "text": [
      "/var/folders/lv/34x2z89s3s3bys5fzpv8k45c0000gn/T/ipykernel_40140/981804481.py:26: InterpolationWarning: The test statistic is outside of the range of p-values available in the\n",
      "look-up table. The actual p-value is smaller than the p-value returned.\n",
      "\n",
      "  resultado = kpss(serie, regression = \"c\")\n",
      "/var/folders/lv/34x2z89s3s3bys5fzpv8k45c0000gn/T/ipykernel_40140/981804481.py:36: InterpolationWarning: The test statistic is outside of the range of p-values available in the\n",
      "look-up table. The actual p-value is smaller than the p-value returned.\n",
      "\n",
      "  resultado = kpss(serie, regression = \"ct\")\n"
     ]
    },
    {
     "name": "stdout",
     "output_type": "stream",
     "text": [
      "Estadístico ADF: -17.013337054200697\n",
      "Valor p: 8.559888742790787e-30\n",
      "Valores Críticos:\n",
      "La serie SI es estacionaria a nivel (rechazamos la hipótesis nula).\n",
      "\n",
      "-- ADF de tendencia --\n",
      "Estadístico ADF: -17.172040601767073\n",
      "Valor p: 0.0\n",
      "Valores Críticos:\n",
      "La serie SI es estacionaria a nivel y tendencia (rechazamos la hipótesis nula).\n",
      "-- KPSS a nivel --\n",
      "Estadístico KPSS: 0.7315529679841405\n",
      "Valor p: 0.010677002910532682\n",
      "Valores Críticos:\n",
      "La serie NO es estacionaria a nivel (rechazamos la hipótesis nula).\n",
      "\n",
      "-- KPSS de tendencia --\n",
      "Estadístico KPSS: 0.0533000073729915\n",
      "Valor p: 0.1\n",
      "Valores Críticos:\n",
      "La serie SI es estacionaria a tendencia (no rechazamos la hipótesis nula).\n",
      "\n",
      "\n",
      "\n",
      "--RH--\n",
      "-- ADF a nivel --\n"
     ]
    },
    {
     "name": "stderr",
     "output_type": "stream",
     "text": [
      "/var/folders/lv/34x2z89s3s3bys5fzpv8k45c0000gn/T/ipykernel_40140/981804481.py:36: InterpolationWarning: The test statistic is outside of the range of p-values available in the\n",
      "look-up table. The actual p-value is greater than the p-value returned.\n",
      "\n",
      "  resultado = kpss(serie, regression = \"ct\")\n"
     ]
    },
    {
     "name": "stdout",
     "output_type": "stream",
     "text": [
      "Estadístico ADF: -11.405596346925105\n",
      "Valor p: 7.463275113503286e-21\n",
      "Valores Críticos:\n",
      "La serie SI es estacionaria a nivel (rechazamos la hipótesis nula).\n",
      "\n",
      "-- ADF de tendencia --\n",
      "Estadístico ADF: -11.530387851229722\n",
      "Valor p: 2.381765002605962e-18\n",
      "Valores Críticos:\n",
      "La serie SI es estacionaria a nivel y tendencia (rechazamos la hipótesis nula).\n",
      "-- KPSS a nivel --\n",
      "Estadístico KPSS: 0.8665692076887697\n",
      "Valor p: 0.01\n",
      "Valores Críticos:\n",
      "La serie NO es estacionaria a nivel (rechazamos la hipótesis nula).\n",
      "\n",
      "-- KPSS de tendencia --\n",
      "Estadístico KPSS: 0.17470522268307795\n",
      "Valor p: 0.026078981097435037\n",
      "Valores Críticos:\n",
      "La serie NO es estacionaria a tendencia (rechazamos la hipótesis nula).\n",
      "\n",
      "\n",
      "\n",
      "--SO2--\n",
      "-- ADF a nivel --\n"
     ]
    },
    {
     "name": "stderr",
     "output_type": "stream",
     "text": [
      "/var/folders/lv/34x2z89s3s3bys5fzpv8k45c0000gn/T/ipykernel_40140/981804481.py:26: InterpolationWarning: The test statistic is outside of the range of p-values available in the\n",
      "look-up table. The actual p-value is smaller than the p-value returned.\n",
      "\n",
      "  resultado = kpss(serie, regression = \"c\")\n"
     ]
    },
    {
     "name": "stdout",
     "output_type": "stream",
     "text": [
      "Estadístico ADF: -8.61548743505664\n",
      "Valor p: 6.307269624682016e-14\n",
      "Valores Críticos:\n",
      "La serie SI es estacionaria a nivel (rechazamos la hipótesis nula).\n",
      "\n",
      "-- ADF de tendencia --\n",
      "Estadístico ADF: -9.840307689731333\n",
      "Valor p: 5.055457920717655e-15\n",
      "Valores Críticos:\n",
      "La serie SI es estacionaria a nivel y tendencia (rechazamos la hipótesis nula).\n",
      "-- KPSS a nivel --\n",
      "Estadístico KPSS: 7.3159832817479815\n",
      "Valor p: 0.01\n",
      "Valores Críticos:\n",
      "La serie NO es estacionaria a nivel (rechazamos la hipótesis nula).\n",
      "\n",
      "-- KPSS de tendencia --\n",
      "Estadístico KPSS: 0.89104649666378\n",
      "Valor p: 0.01\n",
      "Valores Críticos:\n",
      "La serie NO es estacionaria a tendencia (rechazamos la hipótesis nula).\n",
      "\n",
      "\n",
      "\n",
      "--SR--\n",
      "-- ADF a nivel --\n"
     ]
    },
    {
     "name": "stderr",
     "output_type": "stream",
     "text": [
      "/var/folders/lv/34x2z89s3s3bys5fzpv8k45c0000gn/T/ipykernel_40140/981804481.py:26: InterpolationWarning: The test statistic is outside of the range of p-values available in the\n",
      "look-up table. The actual p-value is smaller than the p-value returned.\n",
      "\n",
      "  resultado = kpss(serie, regression = \"c\")\n",
      "/var/folders/lv/34x2z89s3s3bys5fzpv8k45c0000gn/T/ipykernel_40140/981804481.py:36: InterpolationWarning: The test statistic is outside of the range of p-values available in the\n",
      "look-up table. The actual p-value is smaller than the p-value returned.\n",
      "\n",
      "  resultado = kpss(serie, regression = \"ct\")\n"
     ]
    },
    {
     "name": "stdout",
     "output_type": "stream",
     "text": [
      "Estadístico ADF: -9.08335568084626\n",
      "Valor p: 4.000672144178749e-15\n",
      "Valores Críticos:\n",
      "La serie SI es estacionaria a nivel (rechazamos la hipótesis nula).\n",
      "\n",
      "-- ADF de tendencia --\n",
      "Estadístico ADF: -9.139957296043056\n",
      "Valor p: 1.755785301125628e-13\n",
      "Valores Críticos:\n",
      "La serie SI es estacionaria a nivel y tendencia (rechazamos la hipótesis nula).\n",
      "-- KPSS a nivel --\n",
      "Estadístico KPSS: 1.5978975024910775\n",
      "Valor p: 0.01\n",
      "Valores Críticos:\n",
      "La serie NO es estacionaria a nivel (rechazamos la hipótesis nula).\n",
      "\n",
      "-- KPSS de tendencia --\n",
      "Estadístico KPSS: 0.9153167237774305\n",
      "Valor p: 0.01\n",
      "Valores Críticos:\n",
      "La serie NO es estacionaria a tendencia (rechazamos la hipótesis nula).\n",
      "\n",
      "\n",
      "\n",
      "--TOUT--\n",
      "-- ADF a nivel --\n"
     ]
    },
    {
     "name": "stderr",
     "output_type": "stream",
     "text": [
      "/var/folders/lv/34x2z89s3s3bys5fzpv8k45c0000gn/T/ipykernel_40140/981804481.py:26: InterpolationWarning: The test statistic is outside of the range of p-values available in the\n",
      "look-up table. The actual p-value is smaller than the p-value returned.\n",
      "\n",
      "  resultado = kpss(serie, regression = \"c\")\n",
      "/var/folders/lv/34x2z89s3s3bys5fzpv8k45c0000gn/T/ipykernel_40140/981804481.py:36: InterpolationWarning: The test statistic is outside of the range of p-values available in the\n",
      "look-up table. The actual p-value is smaller than the p-value returned.\n",
      "\n",
      "  resultado = kpss(serie, regression = \"ct\")\n"
     ]
    },
    {
     "name": "stdout",
     "output_type": "stream",
     "text": [
      "Estadístico ADF: -6.899267078276555\n",
      "Valor p: 1.294617554677453e-09\n",
      "Valores Críticos:\n",
      "La serie SI es estacionaria a nivel (rechazamos la hipótesis nula).\n",
      "\n",
      "-- ADF de tendencia --\n",
      "Estadístico ADF: -6.929283101468128\n",
      "Valor p: 2.0411434165228255e-08\n",
      "Valores Críticos:\n",
      "La serie SI es estacionaria a nivel y tendencia (rechazamos la hipótesis nula).\n",
      "-- KPSS a nivel --\n",
      "Estadístico KPSS: 0.9682715196959747\n",
      "Valor p: 0.01\n",
      "Valores Críticos:\n",
      "La serie NO es estacionaria a nivel (rechazamos la hipótesis nula).\n",
      "\n",
      "-- KPSS de tendencia --\n",
      "Estadístico KPSS: 0.8153427436977447\n",
      "Valor p: 0.01\n",
      "Valores Críticos:\n",
      "La serie NO es estacionaria a tendencia (rechazamos la hipótesis nula).\n",
      "\n",
      "\n",
      "\n",
      "--WSR--\n",
      "-- ADF a nivel --\n"
     ]
    },
    {
     "name": "stderr",
     "output_type": "stream",
     "text": [
      "/var/folders/lv/34x2z89s3s3bys5fzpv8k45c0000gn/T/ipykernel_40140/981804481.py:26: InterpolationWarning: The test statistic is outside of the range of p-values available in the\n",
      "look-up table. The actual p-value is smaller than the p-value returned.\n",
      "\n",
      "  resultado = kpss(serie, regression = \"c\")\n",
      "/var/folders/lv/34x2z89s3s3bys5fzpv8k45c0000gn/T/ipykernel_40140/981804481.py:36: InterpolationWarning: The test statistic is outside of the range of p-values available in the\n",
      "look-up table. The actual p-value is smaller than the p-value returned.\n",
      "\n",
      "  resultado = kpss(serie, regression = \"ct\")\n"
     ]
    },
    {
     "name": "stdout",
     "output_type": "stream",
     "text": [
      "Estadístico ADF: -9.38482333668736\n",
      "Valor p: 6.803611811567268e-16\n",
      "Valores Críticos:\n",
      "La serie SI es estacionaria a nivel (rechazamos la hipótesis nula).\n",
      "\n",
      "-- ADF de tendencia --\n",
      "Estadístico ADF: -9.512613989324029\n",
      "Valor p: 2.6062784813000373e-14\n",
      "Valores Críticos:\n",
      "La serie SI es estacionaria a nivel y tendencia (rechazamos la hipótesis nula).\n",
      "-- KPSS a nivel --\n",
      "Estadístico KPSS: 2.180127742740032\n",
      "Valor p: 0.01\n",
      "Valores Críticos:\n",
      "La serie NO es estacionaria a nivel (rechazamos la hipótesis nula).\n",
      "\n",
      "-- KPSS de tendencia --\n",
      "Estadístico KPSS: 1.042470559087836\n",
      "Valor p: 0.01\n",
      "Valores Críticos:\n",
      "La serie NO es estacionaria a tendencia (rechazamos la hipótesis nula).\n",
      "\n",
      "\n",
      "\n",
      "--WDR--\n",
      "-- ADF a nivel --\n"
     ]
    },
    {
     "name": "stderr",
     "output_type": "stream",
     "text": [
      "/var/folders/lv/34x2z89s3s3bys5fzpv8k45c0000gn/T/ipykernel_40140/981804481.py:26: InterpolationWarning: The test statistic is outside of the range of p-values available in the\n",
      "look-up table. The actual p-value is smaller than the p-value returned.\n",
      "\n",
      "  resultado = kpss(serie, regression = \"c\")\n",
      "/var/folders/lv/34x2z89s3s3bys5fzpv8k45c0000gn/T/ipykernel_40140/981804481.py:36: InterpolationWarning: The test statistic is outside of the range of p-values available in the\n",
      "look-up table. The actual p-value is smaller than the p-value returned.\n",
      "\n",
      "  resultado = kpss(serie, regression = \"ct\")\n"
     ]
    },
    {
     "name": "stdout",
     "output_type": "stream",
     "text": [
      "Estadístico ADF: -14.122903515197848\n",
      "Valor p: 2.407392038453087e-26\n",
      "Valores Críticos:\n",
      "La serie SI es estacionaria a nivel (rechazamos la hipótesis nula).\n",
      "\n",
      "-- ADF de tendencia --\n",
      "Estadístico ADF: -14.123076933156558\n",
      "Valor p: 8.558338522504135e-22\n",
      "Valores Críticos:\n",
      "La serie SI es estacionaria a nivel y tendencia (rechazamos la hipótesis nula).\n",
      "-- KPSS a nivel --\n",
      "Estadístico KPSS: 0.5335367362485819\n",
      "Valor p: 0.03411334769176083\n",
      "Valores Críticos:\n",
      "La serie NO es estacionaria a nivel (rechazamos la hipótesis nula).\n",
      "\n",
      "-- KPSS de tendencia --\n",
      "Estadístico KPSS: 0.5238176857950544\n",
      "Valor p: 0.01\n",
      "Valores Críticos:\n",
      "La serie NO es estacionaria a tendencia (rechazamos la hipótesis nula).\n",
      "\n",
      "\n",
      "\n"
     ]
    },
    {
     "name": "stderr",
     "output_type": "stream",
     "text": [
      "/var/folders/lv/34x2z89s3s3bys5fzpv8k45c0000gn/T/ipykernel_40140/981804481.py:36: InterpolationWarning: The test statistic is outside of the range of p-values available in the\n",
      "look-up table. The actual p-value is smaller than the p-value returned.\n",
      "\n",
      "  resultado = kpss(serie, regression = \"ct\")\n"
     ]
    }
   ],
   "source": [
    "for column in sureste.columns:\n",
    "        print(f\"--{column}--\")\n",
    "        prueba_adf(sureste[column])\n",
    "        prueba_kpss(sureste[column])\n",
    "        print(\"\\n\\n\")"
   ]
  }
 ],
 "metadata": {
  "kernelspec": {
   "display_name": "venv",
   "language": "python",
   "name": "python3"
  },
  "language_info": {
   "codemirror_mode": {
    "name": "ipython",
    "version": 3
   },
   "file_extension": ".py",
   "mimetype": "text/x-python",
   "name": "python",
   "nbconvert_exporter": "python",
   "pygments_lexer": "ipython3",
   "version": "3.10.11"
  }
 },
 "nbformat": 4,
 "nbformat_minor": 2
}
