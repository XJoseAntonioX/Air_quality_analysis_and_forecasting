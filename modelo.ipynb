{
 "cells": [
  {
   "cell_type": "markdown",
   "metadata": {},
   "source": [
    "# Modelo"
   ]
  },
  {
   "cell_type": "code",
   "execution_count": 28,
   "metadata": {},
   "outputs": [
    {
     "ename": "ModuleNotFoundError",
     "evalue": "No module named 'keras'",
     "output_type": "error",
     "traceback": [
      "\u001b[1;31m---------------------------------------------------------------------------\u001b[0m",
      "\u001b[1;31mModuleNotFoundError\u001b[0m                       Traceback (most recent call last)",
      "Cell \u001b[1;32mIn[28], line 5\u001b[0m\n\u001b[0;32m      3\u001b[0m \u001b[38;5;28;01mfrom\u001b[39;00m \u001b[38;5;21;01msklearn\u001b[39;00m\u001b[38;5;21;01m.\u001b[39;00m\u001b[38;5;21;01mmetrics\u001b[39;00m \u001b[38;5;28;01mimport\u001b[39;00m mean_squared_error\n\u001b[0;32m      4\u001b[0m \u001b[38;5;28;01mimport\u001b[39;00m \u001b[38;5;21;01mholidays\u001b[39;00m\n\u001b[1;32m----> 5\u001b[0m \u001b[38;5;28;01mfrom\u001b[39;00m \u001b[38;5;21;01mkeras\u001b[39;00m\u001b[38;5;21;01m.\u001b[39;00m\u001b[38;5;21;01mmodels\u001b[39;00m \u001b[38;5;28;01mimport\u001b[39;00m Sequential\n\u001b[0;32m      6\u001b[0m \u001b[38;5;28;01mfrom\u001b[39;00m \u001b[38;5;21;01mkeras\u001b[39;00m\u001b[38;5;21;01m.\u001b[39;00m\u001b[38;5;21;01mlayers\u001b[39;00m \u001b[38;5;28;01mimport\u001b[39;00m Dense\n\u001b[0;32m      7\u001b[0m \u001b[38;5;28;01mfrom\u001b[39;00m \u001b[38;5;21;01mkeras\u001b[39;00m\u001b[38;5;21;01m.\u001b[39;00m\u001b[38;5;21;01mlayers\u001b[39;00m \u001b[38;5;28;01mimport\u001b[39;00m LSTM\n",
      "\u001b[1;31mModuleNotFoundError\u001b[0m: No module named 'keras'"
     ]
    }
   ],
   "source": [
    "import pandas as pd\n",
    "import numpy as np\n",
    "from sklearn.metrics import mean_squared_error\n",
    "import holidays\n",
    "from keras.models import Sequential\n",
    "from keras.layers import Dense\n",
    "from keras.layers import LSTM\n",
    "from sklearn.preprocessing import MinMaxScaler"
   ]
  },
  {
   "cell_type": "markdown",
   "metadata": {},
   "source": [
    "## Lectura de datos y feature engineeing"
   ]
  },
  {
   "cell_type": "code",
   "execution_count": null,
   "metadata": {},
   "outputs": [],
   "source": [
    "Monterrey = pd.read_csv(\"Files/Datos_2022_2023_CENTRO_limpios.csv\", parse_dates=[0], index_col = \"date\")\n",
    "daily_Monterrey = Monterrey.resample('D').mean()\n",
    "\n",
    "# Rango de años\n",
    "years = range(2022, 2024)\n",
    "\n",
    "# Crear una lista vacía para almacenar las fechas festivas\n",
    "festivos = []\n",
    "\n",
    "# Obtener los días festivos de México\n",
    "mx_holidays = holidays.Mexico(years=years)\n",
    "\n",
    "# Llenar la lista con los días festivos y sus nombres\n",
    "for date, name in mx_holidays.items():\n",
    "    festivos.append([date, name])\n",
    "\n",
    "# Crear un DataFrame con las fechas y nombres de los días festivos\n",
    "festivos_df = pd.DataFrame(festivos, columns=['Fecha', 'Evento'])\n",
    "\n",
    "# Convertir a formato de fecha\n",
    "festivos_df['Fecha'] = pd.to_datetime(festivos_df['Fecha'])\n",
    "\n",
    "daily_Monterrey['is_holiday'] = daily_Monterrey.index.isin(festivos_df['Fecha']).astype(int)\n",
    "\n",
    "# Crear la variable dummy para fines de semana\n",
    "daily_Monterrey['is_weekend'] = daily_Monterrey.index.weekday.isin([5, 6]).astype(int)\n"
   ]
  },
  {
   "cell_type": "code",
   "execution_count": null,
   "metadata": {},
   "outputs": [
    {
     "data": {
      "text/plain": [
       "(594, 17)"
      ]
     },
     "execution_count": 8,
     "metadata": {},
     "output_type": "execute_result"
    }
   ],
   "source": [
    "daily_Monterrey.shape"
   ]
  },
  {
   "cell_type": "markdown",
   "metadata": {},
   "source": [
    "## Escalamiento "
   ]
  },
  {
   "cell_type": "code",
   "execution_count": null,
   "metadata": {},
   "outputs": [
    {
     "ename": "NameError",
     "evalue": "name 'MinMaxScaler' is not defined",
     "output_type": "error",
     "traceback": [
      "\u001b[1;31m---------------------------------------------------------------------------\u001b[0m",
      "\u001b[1;31mNameError\u001b[0m                                 Traceback (most recent call last)",
      "Cell \u001b[1;32mIn[27], line 2\u001b[0m\n\u001b[0;32m      1\u001b[0m \u001b[38;5;66;03m# Inicializamos el escalador\u001b[39;00m\n\u001b[1;32m----> 2\u001b[0m scaler \u001b[38;5;241m=\u001b[39m \u001b[43mMinMaxScaler\u001b[49m()\n\u001b[0;32m      4\u001b[0m \u001b[38;5;66;03m# Escalamos todos los datos\u001b[39;00m\n\u001b[0;32m      5\u001b[0m scaled_data \u001b[38;5;241m=\u001b[39m scaler\u001b[38;5;241m.\u001b[39mfit_transform(daily_Monterrey)\n",
      "\u001b[1;31mNameError\u001b[0m: name 'MinMaxScaler' is not defined"
     ]
    }
   ],
   "source": [
    "# Inicializamos el escalador\n",
    "scaler = MinMaxScaler()\n",
    "\n",
    "# Escalamos todos los datos\n",
    "scaled_data = scaler.fit_transform(daily_Monterrey)"
   ]
  },
  {
   "cell_type": "markdown",
   "metadata": {},
   "source": [
    "## Entrenamiento, validación y testeo"
   ]
  },
  {
   "cell_type": "code",
   "execution_count": null,
   "metadata": {},
   "outputs": [],
   "source": [
    "# Número de días para testeo y validación\n",
    "n_test = 31\n",
    "n_val = 31\n",
    "\n",
    "# Últimos 31 datos para testeo\n",
    "X_test = daily_Monterrey.iloc[-n_test:][\"CO\"]\n",
    "y_test = daily_Monterrey.iloc[-n_test:].drop(columns=[\"CO\"])\n",
    "\n",
    "# 31 anteriores a los de testeo para validación\n",
    "X_val = daily_Monterrey.iloc[-(n_test + n_val):-n_test][\"CO\"]\n",
    "y_val = daily_Monterrey.iloc[-(n_test + n_val):-n_test].drop(columns=[\"CO\"])\n",
    "\n",
    "# El resto (excepto los últimos 62) para entrenamiento\n",
    "X_train = daily_Monterrey.iloc[:-(n_test + n_val)][\"CO\"]\n",
    "y_train = daily_Monterrey.iloc[:-(n_test + n_val)].drop(columns=[\"CO\"])"
   ]
  },
  {
   "cell_type": "code",
   "execution_count": null,
   "metadata": {},
   "outputs": [],
   "source": []
  }
 ],
 "metadata": {
  "kernelspec": {
   "display_name": "venv",
   "language": "python",
   "name": "python3"
  },
  "language_info": {
   "codemirror_mode": {
    "name": "ipython",
    "version": 3
   },
   "file_extension": ".py",
   "mimetype": "text/x-python",
   "name": "python",
   "nbconvert_exporter": "python",
   "pygments_lexer": "ipython3",
   "version": "3.10.11"
  }
 },
 "nbformat": 4,
 "nbformat_minor": 2
}
